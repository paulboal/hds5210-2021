{
 "cells": [
  {
   "cell_type": "markdown",
   "metadata": {},
   "source": [
    "In this example, we've got snippets of data from two different price transparency files.  They come in from hospitals in lots of different formats and the data isn't standardized.  Below are explanations of the data in each of those snippets.  We have three goals:\n",
    "1. Standardize the order in which the columns appear: Hospital, MS-DRG, Payer, Plan, and Price\n",
    "2. Make sure the MS-DRG codes are all formatted the same way: ###\n",
    "3. Use the payer_plans map (dictionary) to translate from the incoming payer plan names to the standardized payer and plan fields"
   ]
  },
  {
   "cell_type": "code",
   "execution_count": 1,
   "metadata": {},
   "outputs": [],
   "source": [
    "# In this file, the fields are DRG, Payer Plan, Price\n",
    "# DRGs are prefixed with the letters MS\n",
    "\n",
    "prices_bh = [\n",
    "    ['MS012','AETNA [65000]',21870.66],\n",
    "    ['MS561','AETNA MEDICARE ADV [10300]',15805.88],\n",
    "    ['MS862','ALLWELL [15100]',11222.42],\n",
    "    ['MS881','AR BLUE CROSS BLUE SHIELD [25001]',5912.89],\n",
    "    ['MS156','BLUE ADVANTAGE [25301]',4723.53]\n",
    "]"
   ]
  },
  {
   "cell_type": "code",
   "execution_count": 2,
   "metadata": {},
   "outputs": [],
   "source": [
    "# In this file, the fields are Payer Plan, DRG, Price\n",
    "\n",
    "prices_uams = [\n",
    "    ['Aetna','012',19342.88],\n",
    "    ['Medicare Advantage - Aetna','561',15811.22],\n",
    "    ['ABCBS','983',8732.11]\n",
    "]"
   ]
  },
  {
   "cell_type": "code",
   "execution_count": 3,
   "metadata": {},
   "outputs": [],
   "source": [
    "# This pre-built mapping describes how to translate from Payer Plan values that appear in\n",
    "# the input files to a separate, standardized payer and plan.\n",
    "\n",
    "payer_plans = {\n",
    "    \"ALLWELL [15100]\":                   {  \"payer\": \"Allwell\",   \"plan\": \"Allwell - Unspecified\" },\n",
    "    \"AR BLUE CROSS BLUE SHIELD [25001]\": {  \"payer\": \"ABCBS\",     \"plan\": \"ABCBS - Unspecified\" },\n",
    "    \"Aetna\":                             {  \"payer\": \"Aetna\",     \"plan\": \"Aetna - Unspecified\" },\n",
    "    \"AETNA [65000]\":                     {  \"payer\": \"Aetna\",     \"plan\": \"Aetna - Unspecified\" },\n",
    "    \"Medicare Advantage - Aetna\":        {  \"payer\": \"Aetna\",     \"plan\": \"Aetna - MA\" },\n",
    "    \"BLUE ADVANTAGE [25301]\":            {  \"payer\": \"ABCBS\",     \"plan\": \"ABCBS - MA\" },\n",
    "    \"AETNA MEDICARE ADV [10300]\":        {  \"payer\": \"Aetna\",     \"plan\": \"Aetna - MA\" },\n",
    "    \"ABCBS\":                             {  \"payer\": \"Aetna\",     \"plan\": \"ABCBS - Unspecified\" }\n",
    "}"
   ]
  },
  {
   "cell_type": "markdown",
   "metadata": {},
   "source": [
    "Let's standardize the output!"
   ]
  },
  {
   "cell_type": "code",
   "execution_count": 4,
   "metadata": {},
   "outputs": [
    {
     "data": {
      "text/plain": [
       "{'payer': 'Aetna', 'plan': 'Aetna - Unspecified'}"
      ]
     },
     "execution_count": 4,
     "metadata": {},
     "output_type": "execute_result"
    }
   ],
   "source": [
    "# Solution?\n",
    "\n",
    "payer_plans[\"AETNA [65000]\"]\n",
    "\n"
   ]
  },
  {
   "cell_type": "code",
   "execution_count": 5,
   "metadata": {},
   "outputs": [],
   "source": [
    "output = []"
   ]
  },
  {
   "cell_type": "code",
   "execution_count": 6,
   "metadata": {},
   "outputs": [
    {
     "name": "stdout",
     "output_type": "stream",
     "text": [
      "plan: AETNA [65000]  and standardized_name: {'payer': 'Aetna', 'plan': 'Aetna - Unspecified'}\n",
      "plan: AETNA MEDICARE ADV [10300]  and standardized_name: {'payer': 'Aetna', 'plan': 'Aetna - MA'}\n",
      "plan: ALLWELL [15100]  and standardized_name: {'payer': 'Allwell', 'plan': 'Allwell - Unspecified'}\n",
      "plan: AR BLUE CROSS BLUE SHIELD [25001]  and standardized_name: {'payer': 'ABCBS', 'plan': 'ABCBS - Unspecified'}\n",
      "plan: BLUE ADVANTAGE [25301]  and standardized_name: {'payer': 'ABCBS', 'plan': 'ABCBS - MA'}\n"
     ]
    }
   ],
   "source": [
    "for thingy in prices_bh:\n",
    "    drg = thingy[0]\n",
    "    plan = thingy[1]\n",
    "    price = thingy[2]\n",
    "    standardized_name = payer_plans[plan]\n",
    "    \n",
    "    print(\"plan: {}  and standardized_name: {}\".format(plan, standardized_name))\n",
    "    drg = drg[2:]\n",
    "    \n",
    "    output.append(['BH', drg, standardized_name['payer'], standardized_name['plan'], price])\n",
    "    "
   ]
  },
  {
   "cell_type": "code",
   "execution_count": 7,
   "metadata": {},
   "outputs": [
    {
     "name": "stdout",
     "output_type": "stream",
     "text": [
      "plan: Aetna  and standardized_name: {'payer': 'Aetna', 'plan': 'Aetna - Unspecified'}\n",
      "plan: Medicare Advantage - Aetna  and standardized_name: {'payer': 'Aetna', 'plan': 'Aetna - MA'}\n",
      "plan: ABCBS  and standardized_name: {'payer': 'Aetna', 'plan': 'ABCBS - Unspecified'}\n"
     ]
    }
   ],
   "source": [
    "for thingy in prices_uams:\n",
    "    plan = thingy[0]\n",
    "    drg = thingy[1]\n",
    "    price = thingy[2]\n",
    "    standardized_name = payer_plans[plan]\n",
    "    \n",
    "    print(\"plan: {}  and standardized_name: {}\".format(plan, standardized_name))    \n",
    "    output.append(['UAMS', drg, standardized_name['payer'], standardized_name['plan'], price])\n"
   ]
  },
  {
   "cell_type": "code",
   "execution_count": 8,
   "metadata": {},
   "outputs": [
    {
     "data": {
      "text/plain": [
       "[['BH', '012', 'Aetna', 'Aetna - Unspecified', 21870.66],\n",
       " ['BH', '561', 'Aetna', 'Aetna - MA', 15805.88],\n",
       " ['BH', '862', 'Allwell', 'Allwell - Unspecified', 11222.42],\n",
       " ['BH', '881', 'ABCBS', 'ABCBS - Unspecified', 5912.89],\n",
       " ['BH', '156', 'ABCBS', 'ABCBS - MA', 4723.53],\n",
       " ['UAMS', '012', 'Aetna', 'Aetna - Unspecified', 19342.88],\n",
       " ['UAMS', '561', 'Aetna', 'Aetna - MA', 15811.22],\n",
       " ['UAMS', '983', 'Aetna', 'ABCBS - Unspecified', 8732.11]]"
      ]
     },
     "execution_count": 8,
     "metadata": {},
     "output_type": "execute_result"
    }
   ],
   "source": [
    "output"
   ]
  },
  {
   "cell_type": "code",
   "execution_count": 9,
   "metadata": {},
   "outputs": [
    {
     "name": "stdout",
     "output_type": "stream",
     "text": [
      "Aetna\n",
      "Medicare Advantage - Aetna\n",
      "ABCBS\n"
     ]
    }
   ],
   "source": [
    "for plan, drg, price in prices_uams:\n",
    "    print(plan)"
   ]
  },
  {
   "cell_type": "code",
   "execution_count": null,
   "metadata": {},
   "outputs": [],
   "source": []
  }
 ],
 "metadata": {
  "kernelspec": {
   "display_name": "Python 3",
   "language": "python",
   "name": "python3"
  },
  "language_info": {
   "codemirror_mode": {
    "name": "ipython",
    "version": 3
   },
   "file_extension": ".py",
   "mimetype": "text/x-python",
   "name": "python",
   "nbconvert_exporter": "python",
   "pygments_lexer": "ipython3",
   "version": "3.6.7"
  }
 },
 "nbformat": 4,
 "nbformat_minor": 4
}
