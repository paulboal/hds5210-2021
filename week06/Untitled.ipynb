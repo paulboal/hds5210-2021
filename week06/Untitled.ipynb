{
 "cells": [
  {
   "cell_type": "code",
   "execution_count": 1,
   "metadata": {},
   "outputs": [],
   "source": [
    "import json\n",
    "\n",
    "with open('allergies.json') as f:\n",
    "    allergies = json.load(f)"
   ]
  },
  {
   "cell_type": "code",
   "execution_count": 3,
   "metadata": {},
   "outputs": [
    {
     "data": {
      "text/plain": [
       "list"
      ]
     },
     "execution_count": 3,
     "metadata": {},
     "output_type": "execute_result"
    }
   ],
   "source": [
    "type(allergies.get('entry'))"
   ]
  },
  {
   "cell_type": "code",
   "execution_count": 5,
   "metadata": {},
   "outputs": [
    {
     "name": "stdout",
     "output_type": "stream",
     "text": [
      "Patient name is      [['Jason Argonaut', 'PENICILLIN G'], ['Jason Argonaut', 'SHELLFISH-DERIVED PRODUCTS'], ['Jason Argonaut', 'STRAWBERRY']]\n"
     ]
    }
   ],
   "source": [
    "output = []\n",
    "for patients in allergies['entry']:\n",
    "   x = (patients['resource']['patient']['display'])\n",
    "   y = (patients['resource']['substance']['text'])\n",
    "   output += [[x,y]]\n",
    "\n",
    "print(\"Patient name is      {}\".format(output))"
   ]
  },
  {
   "cell_type": "code",
   "execution_count": null,
   "metadata": {},
   "outputs": [],
   "source": []
  }
 ],
 "metadata": {
  "kernelspec": {
   "display_name": "Python 3",
   "language": "python",
   "name": "python3"
  },
  "language_info": {
   "codemirror_mode": {
    "name": "ipython",
    "version": 3
   },
   "file_extension": ".py",
   "mimetype": "text/x-python",
   "name": "python",
   "nbconvert_exporter": "python",
   "pygments_lexer": "ipython3",
   "version": "3.6.7"
  }
 },
 "nbformat": 4,
 "nbformat_minor": 2
}
