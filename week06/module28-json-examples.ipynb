{
 "cells": [
  {
   "cell_type": "markdown",
   "metadata": {},
   "source": [
    "# The json module"
   ]
  },
  {
   "cell_type": "code",
   "execution_count": null,
   "metadata": {},
   "outputs": [],
   "source": [
    "import json"
   ]
  },
  {
   "cell_type": "code",
   "execution_count": null,
   "metadata": {},
   "outputs": [],
   "source": [
    "family = '{\"Lester-Boal\": [\"Paul\", \"Ada\", \"Teddy\"]}'"
   ]
  },
  {
   "cell_type": "code",
   "execution_count": null,
   "metadata": {},
   "outputs": [],
   "source": [
    "family"
   ]
  },
  {
   "cell_type": "code",
   "execution_count": null,
   "metadata": {},
   "outputs": [],
   "source": [
    "json.loads(family)"
   ]
  },
  {
   "cell_type": "code",
   "execution_count": null,
   "metadata": {},
   "outputs": [],
   "source": [
    "f = json.loads(family)"
   ]
  },
  {
   "cell_type": "code",
   "execution_count": null,
   "metadata": {},
   "outputs": [],
   "source": [
    "type(f)"
   ]
  },
  {
   "cell_type": "code",
   "execution_count": null,
   "metadata": {},
   "outputs": [],
   "source": [
    "type(f.get('Lester-Boal'))"
   ]
  },
  {
   "cell_type": "code",
   "execution_count": null,
   "metadata": {},
   "outputs": [],
   "source": []
  },
  {
   "cell_type": "code",
   "execution_count": null,
   "metadata": {},
   "outputs": [],
   "source": [
    "help(json)"
   ]
  },
  {
   "cell_type": "markdown",
   "metadata": {},
   "source": [
    "# Hospitals Example"
   ]
  },
  {
   "cell_type": "code",
   "execution_count": 7,
   "metadata": {},
   "outputs": [],
   "source": [
    "import json\n",
    "from pathlib import Path\n",
    "HOME = str(Path.home())\n",
    "HOSPITAL_FILE=HOME+\"/from_instructor/data/hospitals.json\""
   ]
  },
  {
   "cell_type": "code",
   "execution_count": 8,
   "metadata": {},
   "outputs": [],
   "source": [
    "systems = json.load(open(HOSPITAL_FILE))"
   ]
  },
  {
   "cell_type": "code",
   "execution_count": 9,
   "metadata": {},
   "outputs": [
    {
     "data": {
      "text/plain": [
       "[{'System': 'BJC',\n",
       "  'Hospitals': [{'Beds': 1432, 'Hospital': 'BJH', 'City': 'St. Louis'},\n",
       "   {'Beds': 1107, 'Hospital': 'MOBap', 'City': 'Creve Coeur'}]},\n",
       " {'System': 'SSM',\n",
       "  'Hospitals': [{'Beds': 965, 'Hospital': 'SLUH', 'City': 'St. Louis'}]},\n",
       " {'System': 'Mercy',\n",
       "  'Hospitals': [{'Beds': 983,\n",
       "    'Hospital': 'Mercy STL',\n",
       "    'City': 'Creve Coeur'}]}]"
      ]
     },
     "execution_count": 9,
     "metadata": {},
     "output_type": "execute_result"
    }
   ],
   "source": [
    "systems"
   ]
  },
  {
   "cell_type": "code",
   "execution_count": 10,
   "metadata": {},
   "outputs": [
    {
     "name": "stdout",
     "output_type": "stream",
     "text": [
      "4487\n"
     ]
    }
   ],
   "source": [
    "total_beds = 0\n",
    "\n",
    "for system in systems:\n",
    "    hospitals = system.get('Hospitals')\n",
    "    for hospital in hospitals:\n",
    "        total_beds += hospital.get('Beds')\n",
    "        \n",
    "print(total_beds)"
   ]
  },
  {
   "cell_type": "code",
   "execution_count": 11,
   "metadata": {},
   "outputs": [
    {
     "name": "stdout",
     "output_type": "stream",
     "text": [
      "{'St. Louis': 2397, 'Creve Coeur': 2090}\n"
     ]
    }
   ],
   "source": [
    "beds_per_city = {}\n",
    "\n",
    "for system in systems:\n",
    "    for hospital in system.get('Hospitals'):\n",
    "        city = hospital.get('City')\n",
    "        beds = hospital.get('Beds')\n",
    "        beds_per_city.setdefault(city, 0)\n",
    "        beds_per_city[city] += beds\n",
    "        \n",
    "print(beds_per_city)"
   ]
  },
  {
   "cell_type": "markdown",
   "metadata": {},
   "source": [
    "```\n",
    "{\n",
    "  \"St. Louis\": 2397,\n",
    "  \"Creve Coeur\": 2090\n",
    "}\n",
    "```"
   ]
  },
  {
   "cell_type": "code",
   "execution_count": 12,
   "metadata": {},
   "outputs": [
    {
     "name": "stdout",
     "output_type": "stream",
     "text": [
      "{\n",
      "    \"St. Louis\": 2397,\n",
      "    \"Creve Coeur\": 2090\n",
      "}\n"
     ]
    }
   ],
   "source": [
    "print(json.dumps(beds_per_city, indent=4))"
   ]
  },
  {
   "cell_type": "code",
   "execution_count": 13,
   "metadata": {},
   "outputs": [
    {
     "name": "stdout",
     "output_type": "stream",
     "text": [
      "[\n",
      "    {\n",
      "        \"System\": \"BJC\",\n",
      "        \"Hospitals\": [\n",
      "            {\n",
      "                \"Beds\": 1432,\n",
      "                \"Hospital\": \"BJH\",\n",
      "                \"City\": \"St. Louis\"\n",
      "            },\n",
      "            {\n",
      "                \"Beds\": 1107,\n",
      "                \"Hospital\": \"MOBap\",\n",
      "                \"City\": \"Creve Coeur\"\n",
      "            }\n",
      "        ]\n",
      "    },\n",
      "    {\n",
      "        \"System\": \"SSM\",\n",
      "        \"Hospitals\": [\n",
      "            {\n",
      "                \"Beds\": 965,\n",
      "                \"Hospital\": \"SLUH\",\n",
      "                \"City\": \"St. Louis\"\n",
      "            }\n",
      "        ]\n",
      "    },\n",
      "    {\n",
      "        \"System\": \"Mercy\",\n",
      "        \"Hospitals\": [\n",
      "            {\n",
      "                \"Beds\": 983,\n",
      "                \"Hospital\": \"Mercy STL\",\n",
      "                \"City\": \"Creve Coeur\"\n",
      "            }\n",
      "        ]\n",
      "    }\n",
      "]\n"
     ]
    }
   ],
   "source": [
    "print(json.dumps(systems, indent=4))"
   ]
  },
  {
   "cell_type": "markdown",
   "metadata": {},
   "source": [
    "# Loading JSON from a file"
   ]
  },
  {
   "cell_type": "code",
   "execution_count": 15,
   "metadata": {},
   "outputs": [],
   "source": [
    "PATIENT_FILE=HOME+'/from_instructor/data/patient.json'\n",
    "\n",
    "with open(PATIENT_FILE) as f:\n",
    "    patient = json.load(f)"
   ]
  },
  {
   "cell_type": "code",
   "execution_count": 16,
   "metadata": {},
   "outputs": [
    {
     "data": {
      "text/plain": [
       "dict"
      ]
     },
     "execution_count": 16,
     "metadata": {},
     "output_type": "execute_result"
    }
   ],
   "source": [
    "type(patient)"
   ]
  },
  {
   "cell_type": "code",
   "execution_count": 17,
   "metadata": {},
   "outputs": [
    {
     "data": {
      "text/plain": [
       "{'resourceType': 'Patient',\n",
       " 'id': 'example',\n",
       " 'identifier': [{'use': 'usual',\n",
       "   'type': {'coding': [{'system': 'http://terminology.hl7.org/CodeSystem/v2-0203',\n",
       "      'code': 'MR'}]},\n",
       "   'system': 'urn:oid:1.2.36.146.595.217.0.1',\n",
       "   'value': '12345',\n",
       "   'period': {'start': '2001-05-06'},\n",
       "   'assigner': {'display': 'Acme Healthcare'}}],\n",
       " 'active': True,\n",
       " 'name': [{'use': 'official',\n",
       "   'family': 'Chalmers',\n",
       "   'given': ['Peter', 'James']},\n",
       "  {'use': 'usual', 'given': ['Jim']},\n",
       "  {'use': 'maiden',\n",
       "   'family': 'Windsor',\n",
       "   'given': ['Peter', 'James'],\n",
       "   'period': {'end': '2002'}}],\n",
       " 'telecom': [{'use': 'home'},\n",
       "  {'system': 'phone', 'value': '(03) 5555 6473', 'use': 'work', 'rank': 1},\n",
       "  {'system': 'phone', 'value': '(03) 3410 5613', 'use': 'mobile', 'rank': 2},\n",
       "  {'system': 'phone',\n",
       "   'value': '(03) 5555 8834',\n",
       "   'use': 'old',\n",
       "   'period': {'end': '2014'}}],\n",
       " 'gender': 'male',\n",
       " 'birthDate': '1974-12-25',\n",
       " '_birthDate': {'extension': [{'url': 'http://hl7.org/fhir/StructureDefinition/patient-birthTime',\n",
       "    'valueDateTime': '1974-12-25T14:35:45-05:00'}]},\n",
       " 'deceasedBoolean': False,\n",
       " 'address': [{'use': 'home',\n",
       "   'type': 'both',\n",
       "   'text': '534 Erewhon St PeasantVille, Rainbow, Vic  3999',\n",
       "   'line': ['534 Erewhon St'],\n",
       "   'city': 'PleasantVille',\n",
       "   'district': 'Rainbow',\n",
       "   'state': 'Vic',\n",
       "   'postalCode': '3999',\n",
       "   'period': {'start': '1974-12-25'}}],\n",
       " 'contact': [{'relationship': [{'coding': [{'system': 'http://terminology.hl7.org/CodeSystem/v2-0131',\n",
       "       'code': 'N'}]}],\n",
       "   'name': {'family': 'du Marché',\n",
       "    '_family': {'extension': [{'url': 'http://hl7.org/fhir/StructureDefinition/humanname-own-prefix',\n",
       "       'valueString': 'VV'}]},\n",
       "    'given': ['Bénédicte']},\n",
       "   'telecom': [{'system': 'phone', 'value': '+33 (237) 998327'}],\n",
       "   'address': {'use': 'home',\n",
       "    'type': 'both',\n",
       "    'line': ['534 Erewhon St'],\n",
       "    'city': 'PleasantVille',\n",
       "    'district': 'Rainbow',\n",
       "    'state': 'Vic',\n",
       "    'postalCode': '3999',\n",
       "    'period': {'start': '1974-12-25'}},\n",
       "   'gender': 'female',\n",
       "   'period': {'start': '2012'}}],\n",
       " 'managingOrganization': {'reference': 'Organization/1'}}"
      ]
     },
     "execution_count": 17,
     "metadata": {},
     "output_type": "execute_result"
    }
   ],
   "source": [
    "patient"
   ]
  },
  {
   "cell_type": "code",
   "execution_count": 18,
   "metadata": {},
   "outputs": [
    {
     "name": "stdout",
     "output_type": "stream",
     "text": [
      "{\n",
      "    \"resourceType\": \"Patient\",\n",
      "    \"id\": \"example\",\n",
      "    \"identifier\": [\n",
      "        {\n",
      "            \"use\": \"usual\",\n",
      "            \"type\": {\n",
      "                \"coding\": [\n",
      "                    {\n",
      "                        \"system\": \"http://terminology.hl7.org/CodeSystem/v2-0203\",\n",
      "                        \"code\": \"MR\"\n",
      "                    }\n",
      "                ]\n",
      "            },\n",
      "            \"system\": \"urn:oid:1.2.36.146.595.217.0.1\",\n",
      "            \"value\": \"12345\",\n",
      "            \"period\": {\n",
      "                \"start\": \"2001-05-06\"\n",
      "            },\n",
      "            \"assigner\": {\n",
      "                \"display\": \"Acme Healthcare\"\n",
      "            }\n",
      "        }\n",
      "    ],\n",
      "    \"active\": true,\n",
      "    \"name\": [\n",
      "        {\n",
      "            \"use\": \"official\",\n",
      "            \"family\": \"Chalmers\",\n",
      "            \"given\": [\n",
      "                \"Peter\",\n",
      "                \"James\"\n",
      "            ]\n",
      "        },\n",
      "        {\n",
      "            \"use\": \"usual\",\n",
      "            \"given\": [\n",
      "                \"Jim\"\n",
      "            ]\n",
      "        },\n",
      "        {\n",
      "            \"use\": \"maiden\",\n",
      "            \"family\": \"Windsor\",\n",
      "            \"given\": [\n",
      "                \"Peter\",\n",
      "                \"James\"\n",
      "            ],\n",
      "            \"period\": {\n",
      "                \"end\": \"2002\"\n",
      "            }\n",
      "        }\n",
      "    ],\n",
      "    \"telecom\": [\n",
      "        {\n",
      "            \"use\": \"home\"\n",
      "        },\n",
      "        {\n",
      "            \"system\": \"phone\",\n",
      "            \"value\": \"(03) 5555 6473\",\n",
      "            \"use\": \"work\",\n",
      "            \"rank\": 1\n",
      "        },\n",
      "        {\n",
      "            \"system\": \"phone\",\n",
      "            \"value\": \"(03) 3410 5613\",\n",
      "            \"use\": \"mobile\",\n",
      "            \"rank\": 2\n",
      "        },\n",
      "        {\n",
      "            \"system\": \"phone\",\n",
      "            \"value\": \"(03) 5555 8834\",\n",
      "            \"use\": \"old\",\n",
      "            \"period\": {\n",
      "                \"end\": \"2014\"\n",
      "            }\n",
      "        }\n",
      "    ],\n",
      "    \"gender\": \"male\",\n",
      "    \"birthDate\": \"1974-12-25\",\n",
      "    \"_birthDate\": {\n",
      "        \"extension\": [\n",
      "            {\n",
      "                \"url\": \"http://hl7.org/fhir/StructureDefinition/patient-birthTime\",\n",
      "                \"valueDateTime\": \"1974-12-25T14:35:45-05:00\"\n",
      "            }\n",
      "        ]\n",
      "    },\n",
      "    \"deceasedBoolean\": false,\n",
      "    \"address\": [\n",
      "        {\n",
      "            \"use\": \"home\",\n",
      "            \"type\": \"both\",\n",
      "            \"text\": \"534 Erewhon St PeasantVille, Rainbow, Vic  3999\",\n",
      "            \"line\": [\n",
      "                \"534 Erewhon St\"\n",
      "            ],\n",
      "            \"city\": \"PleasantVille\",\n",
      "            \"district\": \"Rainbow\",\n",
      "            \"state\": \"Vic\",\n",
      "            \"postalCode\": \"3999\",\n",
      "            \"period\": {\n",
      "                \"start\": \"1974-12-25\"\n",
      "            }\n",
      "        }\n",
      "    ],\n",
      "    \"contact\": [\n",
      "        {\n",
      "            \"relationship\": [\n",
      "                {\n",
      "                    \"coding\": [\n",
      "                        {\n",
      "                            \"system\": \"http://terminology.hl7.org/CodeSystem/v2-0131\",\n",
      "                            \"code\": \"N\"\n",
      "                        }\n",
      "                    ]\n",
      "                }\n",
      "            ],\n",
      "            \"name\": {\n",
      "                \"family\": \"du March\\u00e9\",\n",
      "                \"_family\": {\n",
      "                    \"extension\": [\n",
      "                        {\n",
      "                            \"url\": \"http://hl7.org/fhir/StructureDefinition/humanname-own-prefix\",\n",
      "                            \"valueString\": \"VV\"\n",
      "                        }\n",
      "                    ]\n",
      "                },\n",
      "                \"given\": [\n",
      "                    \"B\\u00e9n\\u00e9dicte\"\n",
      "                ]\n",
      "            },\n",
      "            \"telecom\": [\n",
      "                {\n",
      "                    \"system\": \"phone\",\n",
      "                    \"value\": \"+33 (237) 998327\"\n",
      "                }\n",
      "            ],\n",
      "            \"address\": {\n",
      "                \"use\": \"home\",\n",
      "                \"type\": \"both\",\n",
      "                \"line\": [\n",
      "                    \"534 Erewhon St\"\n",
      "                ],\n",
      "                \"city\": \"PleasantVille\",\n",
      "                \"district\": \"Rainbow\",\n",
      "                \"state\": \"Vic\",\n",
      "                \"postalCode\": \"3999\",\n",
      "                \"period\": {\n",
      "                    \"start\": \"1974-12-25\"\n",
      "                }\n",
      "            },\n",
      "            \"gender\": \"female\",\n",
      "            \"period\": {\n",
      "                \"start\": \"2012\"\n",
      "            }\n",
      "        }\n",
      "    ],\n",
      "    \"managingOrganization\": {\n",
      "        \"reference\": \"Organization/1\"\n",
      "    }\n",
      "}\n"
     ]
    }
   ],
   "source": [
    "print(json.dumps(patient, indent=4))"
   ]
  },
  {
   "cell_type": "code",
   "execution_count": 19,
   "metadata": {},
   "outputs": [
    {
     "data": {
      "text/plain": [
       "'Patient'"
      ]
     },
     "execution_count": 19,
     "metadata": {},
     "output_type": "execute_result"
    }
   ],
   "source": [
    "patient.get('resourceType')"
   ]
  },
  {
   "cell_type": "code",
   "execution_count": null,
   "metadata": {},
   "outputs": [],
   "source": []
  },
  {
   "cell_type": "markdown",
   "metadata": {},
   "source": [
    "# Practical Example\n",
    "\n",
    "Let's get all the phone numbers from the patient JSON file.\n"
   ]
  },
  {
   "cell_type": "code",
   "execution_count": 20,
   "metadata": {},
   "outputs": [
    {
     "data": {
      "text/plain": [
       "[{'use': 'home'},\n",
       " {'system': 'phone', 'value': '(03) 5555 6473', 'use': 'work', 'rank': 1},\n",
       " {'system': 'phone', 'value': '(03) 3410 5613', 'use': 'mobile', 'rank': 2},\n",
       " {'system': 'phone',\n",
       "  'value': '(03) 5555 8834',\n",
       "  'use': 'old',\n",
       "  'period': {'end': '2014'}}]"
      ]
     },
     "execution_count": 20,
     "metadata": {},
     "output_type": "execute_result"
    }
   ],
   "source": [
    "patient.get('telecom')"
   ]
  },
  {
   "cell_type": "code",
   "execution_count": 21,
   "metadata": {},
   "outputs": [],
   "source": [
    "numbers = patient.get('telecom')"
   ]
  },
  {
   "cell_type": "code",
   "execution_count": 22,
   "metadata": {},
   "outputs": [
    {
     "data": {
      "text/plain": [
       "list"
      ]
     },
     "execution_count": 22,
     "metadata": {},
     "output_type": "execute_result"
    }
   ],
   "source": [
    "type(numbers)"
   ]
  },
  {
   "cell_type": "code",
   "execution_count": 23,
   "metadata": {},
   "outputs": [
    {
     "data": {
      "text/plain": [
       "{'use': 'home'}"
      ]
     },
     "execution_count": 23,
     "metadata": {},
     "output_type": "execute_result"
    }
   ],
   "source": [
    "numbers[0]"
   ]
  },
  {
   "cell_type": "code",
   "execution_count": 24,
   "metadata": {},
   "outputs": [
    {
     "data": {
      "text/plain": [
       "{'system': 'phone', 'value': '(03) 5555 6473', 'use': 'work', 'rank': 1}"
      ]
     },
     "execution_count": 24,
     "metadata": {},
     "output_type": "execute_result"
    }
   ],
   "source": [
    "numbers[1]"
   ]
  },
  {
   "cell_type": "code",
   "execution_count": 25,
   "metadata": {},
   "outputs": [],
   "source": [
    "numbers = patient.get('telecom')\n",
    "active_numbers = []\n",
    "\n",
    "for value in numbers:\n",
    "    if value.get('system') == 'phone' and value.get('use') != 'old':\n",
    "        active_numbers.append(value.get('value'))"
   ]
  },
  {
   "cell_type": "code",
   "execution_count": 26,
   "metadata": {},
   "outputs": [
    {
     "data": {
      "text/plain": [
       "['(03) 5555 6473', '(03) 3410 5613']"
      ]
     },
     "execution_count": 26,
     "metadata": {},
     "output_type": "execute_result"
    }
   ],
   "source": [
    "active_numbers"
   ]
  },
  {
   "cell_type": "code",
   "execution_count": 27,
   "metadata": {},
   "outputs": [
    {
     "data": {
      "text/plain": [
       "'+33 (237) 998327'"
      ]
     },
     "execution_count": 27,
     "metadata": {},
     "output_type": "execute_result"
    }
   ],
   "source": [
    "patient.get('contact')[0].get('telecom')[0].get('value')"
   ]
  },
  {
   "cell_type": "code",
   "execution_count": null,
   "metadata": {},
   "outputs": [],
   "source": []
  },
  {
   "cell_type": "code",
   "execution_count": null,
   "metadata": {},
   "outputs": [],
   "source": []
  }
 ],
 "metadata": {
  "kernelspec": {
   "display_name": "Python 3",
   "language": "python",
   "name": "python3"
  },
  "language_info": {
   "codemirror_mode": {
    "name": "ipython",
    "version": 3
   },
   "file_extension": ".py",
   "mimetype": "text/x-python",
   "name": "python",
   "nbconvert_exporter": "python",
   "pygments_lexer": "ipython3",
   "version": "3.6.7"
  }
 },
 "nbformat": 4,
 "nbformat_minor": 2
}
