{
 "cells": [
  {
   "cell_type": "code",
   "execution_count": 1,
   "metadata": {},
   "outputs": [],
   "source": [
    "import json"
   ]
  },
  {
   "cell_type": "code",
   "execution_count": 21,
   "metadata": {},
   "outputs": [],
   "source": [
    "with open('71-0411459_whiterivermedicalcenter_standardcharges.json') as f:\n",
    "    whiteriver = json.load(f)"
   ]
  },
  {
   "cell_type": "code",
   "execution_count": 23,
   "metadata": {},
   "outputs": [
    {
     "data": {
      "text/plain": [
       "dict_keys(['HospitalorFacilityName', 'PricesPostedandEffective', 'Notes', 'StandardCharges'])"
      ]
     },
     "execution_count": 23,
     "metadata": {},
     "output_type": "execute_result"
    }
   ],
   "source": [
    "whiteriver.get('root').keys()"
   ]
  },
  {
   "cell_type": "code",
   "execution_count": 18,
   "metadata": {},
   "outputs": [
    {
     "name": "stdout",
     "output_type": "stream",
     "text": [
      "0\n",
      "0\n",
      "0\n",
      "0\n",
      "609.74\n",
      "0\n",
      "609.74\n",
      "0\n",
      "609.74\n",
      "0\n",
      "609.74\n",
      "0\n",
      "339.04\n",
      "609.74\n",
      "176.02\n",
      "339.04\n",
      "339.04\n",
      "1379.32\n",
      "339.04\n",
      "609.74\n",
      "609.74\n",
      "2323.39\n",
      "339.04\n",
      "513.86\n",
      "1379.32\n",
      "0\n",
      "0\n",
      "0\n",
      "176.02\n",
      "176.02\n",
      "176.02\n",
      "176.02\n",
      "0\n",
      "339.04\n",
      "0\n",
      "513.86\n",
      "0\n",
      "176.02\n",
      "339.04\n",
      "609.74\n",
      "339.04\n",
      "609.74\n",
      "609.74\n",
      "1379.32\n",
      "1379.32\n",
      "1379.32\n",
      "609.74\n",
      "1379.32\n",
      "609.74\n",
      "2323.39\n",
      "339.04\n",
      "609.74\n",
      "609.74\n",
      "1379.32\n",
      "609.74\n",
      "54.57\n",
      "54.57\n",
      "176.02\n",
      "0\n",
      "339.04\n",
      "513.86\n",
      "339.04\n",
      "2323.39\n",
      "176.02\n",
      "176.02\n",
      "176.02\n",
      "176.02\n",
      "339.04\n",
      "339.04\n",
      "339.04\n",
      "339.04\n",
      "513.86\n",
      "513.86\n",
      "339.04\n",
      "513.86\n",
      "513.86\n",
      "513.86\n",
      "1681.62\n",
      "1681.62\n",
      "1681.62\n",
      "3452.87\n",
      "0\n",
      "1681.62\n",
      "0\n",
      "1681.62\n",
      "0\n",
      "1681.62\n",
      "0\n",
      "176.02\n",
      "176.02\n",
      "339.04\n",
      "176.02\n",
      "0\n",
      "339.04\n",
      "176.02\n",
      "176.02\n",
      "609.74\n",
      "0\n",
      "1379.32\n",
      "1379.32\n"
     ]
    }
   ],
   "source": [
    "keepers = []\n",
    "for charge in whiteriver.get('root').get('StandardCharges'):\n",
    "    if charge.get('UNITEDHEALTHCARE_OPPS') is not None:\n",
    "        print(charge.get('UNITEDHEALTHCARE_OPPS'))\n",
    "        keepers.append(charge)"
   ]
  },
  {
   "cell_type": "code",
   "execution_count": 19,
   "metadata": {},
   "outputs": [],
   "source": [
    "whiteriver.get('root')['StandardCharges'] = keepers[0:100]"
   ]
  },
  {
   "cell_type": "code",
   "execution_count": 20,
   "metadata": {},
   "outputs": [],
   "source": [
    "with open('whiteriver.json','w') as f:\n",
    "    f.write(json.dumps(whiteriver, indent=4))"
   ]
  }
 ],
 "metadata": {
  "kernelspec": {
   "display_name": "Python 3",
   "language": "python",
   "name": "python3"
  },
  "language_info": {
   "codemirror_mode": {
    "name": "ipython",
    "version": 3
   },
   "file_extension": ".py",
   "mimetype": "text/x-python",
   "name": "python",
   "nbconvert_exporter": "python",
   "pygments_lexer": "ipython3",
   "version": "3.6.7"
  }
 },
 "nbformat": 4,
 "nbformat_minor": 4
}
