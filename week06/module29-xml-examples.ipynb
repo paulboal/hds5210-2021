{
 "cells": [
  {
   "cell_type": "markdown",
   "metadata": {},
   "source": [
    "# Reading XML to an object tree"
   ]
  },
  {
   "cell_type": "code",
   "execution_count": 1,
   "metadata": {},
   "outputs": [],
   "source": [
    "from lxml import objectify\n",
    "from pathlib import Path\n",
    "HOME = str(Path.home())\n",
    "PATIENT_FILE=HOME+\"/from_instructor/data/patient.xml\""
   ]
  },
  {
   "cell_type": "code",
   "execution_count": 2,
   "metadata": {},
   "outputs": [],
   "source": [
    "path = PATIENT_FILE\n",
    "with open(path) as f:\n",
    "    xml = objectify.parse(f)\n",
    "\n",
    "patient = xml.getroot()"
   ]
  },
  {
   "cell_type": "code",
   "execution_count": 3,
   "metadata": {},
   "outputs": [
    {
     "data": {
      "text/plain": [
       "lxml.objectify.ObjectifiedElement"
      ]
     },
     "execution_count": 3,
     "metadata": {},
     "output_type": "execute_result"
    }
   ],
   "source": [
    "type(patient)"
   ]
  },
  {
   "cell_type": "code",
   "execution_count": 4,
   "metadata": {},
   "outputs": [
    {
     "name": "stdout",
     "output_type": "stream",
     "text": [
      "{http://hl7.org/fhir}id : {'value': 'example'}\n",
      "{http://hl7.org/fhir}text : {}\n",
      "comment : {}\n",
      "{http://hl7.org/fhir}identifier : {}\n",
      "{http://hl7.org/fhir}active : {'value': 'true'}\n",
      "comment : {}\n",
      "{http://hl7.org/fhir}name : {}\n",
      "{http://hl7.org/fhir}name : {}\n",
      "{http://hl7.org/fhir}name : {}\n",
      "{http://hl7.org/fhir}telecom : {}\n",
      "{http://hl7.org/fhir}telecom : {}\n",
      "{http://hl7.org/fhir}telecom : {}\n",
      "{http://hl7.org/fhir}telecom : {}\n",
      "comment : {}\n",
      "{http://hl7.org/fhir}gender : {'value': 'male'}\n",
      "{http://hl7.org/fhir}birthDate : {'value': '1974-12-25'}\n",
      "{http://hl7.org/fhir}deceasedBoolean : {'value': 'false'}\n",
      "{http://hl7.org/fhir}address : {}\n",
      "{http://hl7.org/fhir}contact : {}\n",
      "{http://hl7.org/fhir}managingOrganization : {}\n"
     ]
    }
   ],
   "source": [
    "for child in patient.getchildren():\n",
    "    print(child.tag + \" : \" + str(child.attrib))"
   ]
  },
  {
   "cell_type": "code",
   "execution_count": 7,
   "metadata": {},
   "outputs": [
    {
     "name": "stdout",
     "output_type": "stream",
     "text": [
      "<?xml version=\"1.0\" encoding=\"UTF-8\"?>\n",
      "\n",
      "<Patient xmlns=\"http://hl7.org/fhir\">\n",
      "  <id value=\"example\"/> \n",
      "  <text> \n",
      "    <status value=\"generated\"/> \n",
      "    <div xmlns=\"http://www.w3.org/1999/xhtml\">\n",
      "      <table> \n",
      "        <tbody> \n",
      "          <tr> \n"
     ]
    }
   ],
   "source": [
    "%%bash\n",
    "head ~/from_instructor/data/patient.xml"
   ]
  },
  {
   "cell_type": "markdown",
   "metadata": {},
   "source": [
    "# XPath\n",
    "\n",
    "See https://docs.python.org/2/library/xml.etree.elementtree.html#xpath-support for more on XPath"
   ]
  },
  {
   "cell_type": "code",
   "execution_count": 8,
   "metadata": {},
   "outputs": [
    {
     "name": "stdout",
     "output_type": "stream",
     "text": [
      "Address City: PleasantVille\n"
     ]
    }
   ],
   "source": [
    "ns={\"fhir\": \"http://hl7.org/fhir\"}\n",
    "\n",
    "for address in patient.findall('fhir:address', namespaces=ns):\n",
    "    city = address.find('fhir:city', namespaces=ns)\n",
    "    print(\"Address City: \" + city.attrib.get('value'))"
   ]
  },
  {
   "cell_type": "code",
   "execution_count": null,
   "metadata": {},
   "outputs": [],
   "source": []
  }
 ],
 "metadata": {
  "kernelspec": {
   "display_name": "Python 3",
   "language": "python",
   "name": "python3"
  },
  "language_info": {
   "codemirror_mode": {
    "name": "ipython",
    "version": 3
   },
   "file_extension": ".py",
   "mimetype": "text/x-python",
   "name": "python",
   "nbconvert_exporter": "python",
   "pygments_lexer": "ipython3",
   "version": "3.6.7"
  }
 },
 "nbformat": 4,
 "nbformat_minor": 2
}
