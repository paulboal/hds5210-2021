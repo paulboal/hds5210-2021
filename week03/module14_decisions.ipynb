{
 "cells": [
  {
   "cell_type": "markdown",
   "metadata": {},
   "source": [
    "# Module 14 - Decisions\n",
    "\n",
    "In the past few modules, we've learned about looping through things and about how to make decisions and take different paths forward depending on what the data is telling us.  Let's practice that a bit."
   ]
  },
  {
   "cell_type": "markdown",
   "metadata": {},
   "source": [
    "The website **MDCalc** has information about a lot of clinically validated risk scoring models.  These aren't advanced predictive models that use machine learning or artificial intelligence to suggest the likelihood of a particular outcome, but they are still current best practice in medical treatment planning.\n",
    "\n",
    "For this exercise in class, we're going to look at a HOSPITAL readmission risk calculator: https://www.mdcalc.com/hospital-score-readmissions#evidence\n",
    "\n",
    "How would we write a function to calculate this risk score, given the input parameters:\n",
    "* hemoglobin - \n",
    "* oncology - \n",
    "* sodium_level - \n",
    "* coded_procedure - \n",
    "* admission_type - \n",
    "* previous_admissions - \n",
    "* length_of_stay -"
   ]
  },
  {
   "cell_type": "markdown",
   "metadata": {},
   "source": [
    "```\n",
    "Variable                                                Points\n",
    "Hemoglobin level at discharge, g/dL      ≥12            0\n",
    "Hemoglobin level at discharge, g/dL      <12            1\n",
    "\n",
    "Discharged from oncology service         No             0\n",
    "Discharged from oncology service         Yes            2\n",
    "\n",
    "Sodium level at discharge, mEq/L         ≥135           0\n",
    "Sodium level at discharge, mEq/L         <135           1\n",
    "\n",
    "Any ICD-9 coded procedure performed      No             0\n",
    "Any ICD-9 coded procedure performed      Yes            1\n",
    "\n",
    "Index admission type                     Elective       0\n",
    "Index admission type                     Urgent         1\n",
    "\n",
    "Number of admissions previous year       0-1            0\n",
    "Number of admissions previous year       2-5            2\n",
    "Number of admissions previous year       >5             5\n",
    "\n",
    "Length of stay                           <5 days        0\n",
    "Length of stay                           ≥5 days        2\n",
    "```"
   ]
  },
  {
   "cell_type": "code",
   "execution_count": 1,
   "metadata": {},
   "outputs": [],
   "source": [
    "def hemoglobin_score(hemoglobin):\n",
    "    if hemoglobin >= 12:\n",
    "        return 0\n",
    "    else:\n",
    "        return 1"
   ]
  },
  {
   "cell_type": "code",
   "execution_count": 2,
   "metadata": {},
   "outputs": [],
   "source": [
    "def oncology_score(oncology):\n",
    "    if oncology:\n",
    "        return 2\n",
    "    else:\n",
    "        return 0"
   ]
  },
  {
   "cell_type": "code",
   "execution_count": 3,
   "metadata": {},
   "outputs": [],
   "source": [
    "def sodium_score(sodium_level):\n",
    "    if sodium_level >= 135:\n",
    "        return 0\n",
    "    else:\n",
    "        return 1"
   ]
  },
  {
   "cell_type": "code",
   "execution_count": 4,
   "metadata": {},
   "outputs": [],
   "source": [
    "def procedure_score(coded_procedure):\n",
    "    if coded_procedure:\n",
    "        return 1\n",
    "    else:\n",
    "        return 0"
   ]
  },
  {
   "cell_type": "code",
   "execution_count": 5,
   "metadata": {},
   "outputs": [],
   "source": [
    "def admission_score(admission_type):\n",
    "    if admission_type == \"Elective\":\n",
    "        return 0\n",
    "    else:\n",
    "        return 1"
   ]
  },
  {
   "cell_type": "code",
   "execution_count": 6,
   "metadata": {},
   "outputs": [],
   "source": [
    "def prev_admission_score(previous_admissions):\n",
    "    if previous_admissions <= 1: \n",
    "        return 0\n",
    "    elif previous_admissions <= 5:\n",
    "        return 2\n",
    "    else:\n",
    "        return 5"
   ]
  },
  {
   "cell_type": "code",
   "execution_count": 7,
   "metadata": {},
   "outputs": [],
   "source": [
    "def los_score(los):\n",
    "    if los < 5:\n",
    "        return 0\n",
    "    else:\n",
    "        return 2"
   ]
  },
  {
   "cell_type": "code",
   "execution_count": 8,
   "metadata": {},
   "outputs": [],
   "source": [
    "def hospital_readmission_risk(hemoglobin, oncology, sodium_level, coded_procedure, admission_type, previous_admissions, length_of_stay):\n",
    "    score = hemoglobin_score(hemoglobin) + \\\n",
    "        oncology_score(oncology) + \\\n",
    "        sodium_score(sodium_level) + \\\n",
    "        procedure_score(coded_procedure) + \\\n",
    "        admission_score(admission_type) + \\\n",
    "        prev_admission_score(previous_admissions) + \\\n",
    "        los_score(length_of_stay)\n",
    "    \n",
    "    if score <= 4:\n",
    "        return \"Low\"\n",
    "    elif score > 4 and score <= 6:\n",
    "        return \"Intermediate\"\n",
    "    else:\n",
    "        return \"High\""
   ]
  },
  {
   "cell_type": "code",
   "execution_count": 9,
   "metadata": {},
   "outputs": [
    {
     "data": {
      "text/plain": [
       "'Low'"
      ]
     },
     "execution_count": 9,
     "metadata": {},
     "output_type": "execute_result"
    }
   ],
   "source": [
    "hospital_readmission_risk(13, True, 100, False, 'Elective', 1, 4)"
   ]
  },
  {
   "cell_type": "code",
   "execution_count": 11,
   "metadata": {},
   "outputs": [
    {
     "data": {
      "text/plain": [
       "'Intermediate'"
      ]
     },
     "execution_count": 11,
     "metadata": {},
     "output_type": "execute_result"
    }
   ],
   "source": [
    "hospital_readmission_risk(13, True, 100, True, 'Emergency', 1, 4)"
   ]
  },
  {
   "cell_type": "code",
   "execution_count": null,
   "metadata": {},
   "outputs": [],
   "source": []
  }
 ],
 "metadata": {
  "kernelspec": {
   "display_name": "Python 3",
   "language": "python",
   "name": "python3"
  },
  "language_info": {
   "codemirror_mode": {
    "name": "ipython",
    "version": 3
   },
   "file_extension": ".py",
   "mimetype": "text/x-python",
   "name": "python",
   "nbconvert_exporter": "python",
   "pygments_lexer": "ipython3",
   "version": "3.6.7"
  }
 },
 "nbformat": 4,
 "nbformat_minor": 4
}
