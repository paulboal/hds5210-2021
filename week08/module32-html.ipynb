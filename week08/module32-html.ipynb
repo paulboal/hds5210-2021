{
 "cells": [
  {
   "cell_type": "markdown",
   "metadata": {},
   "source": [
    "# Parsing HTML with BeautifulSoup\n",
    "\n",
    "In this example, we want to look at a website and get a list of all the available downloadable files from that website.\n",
    "\n",
    "https://catalog.data.gov/dataset?res_format=CSV&tags=hospital"
   ]
  },
  {
   "cell_type": "code",
   "execution_count": 1,
   "metadata": {},
   "outputs": [],
   "source": [
    "import requests\n",
    "from bs4 import BeautifulSoup"
   ]
  },
  {
   "cell_type": "code",
   "execution_count": 2,
   "metadata": {},
   "outputs": [],
   "source": [
    "r = requests.get('https://catalog.data.gov/dataset?res_format=CSV&tags=hospital')"
   ]
  },
  {
   "cell_type": "code",
   "execution_count": 3,
   "metadata": {},
   "outputs": [
    {
     "data": {
      "text/plain": [
       "200"
      ]
     },
     "execution_count": 3,
     "metadata": {},
     "output_type": "execute_result"
    }
   ],
   "source": [
    "r.status_code"
   ]
  },
  {
   "cell_type": "code",
   "execution_count": 4,
   "metadata": {},
   "outputs": [
    {
     "name": "stdout",
     "output_type": "stream",
     "text": [
      "<!DOCTYPE html>\n",
      "<!--[if IE 7]> <html lang=\"en\" class=\"ie ie7\"> <![endif]-->\n",
      "<!--[if IE 8]> <html lang=\"en\" class=\"ie ie8\"> <![endif]-->\n",
      "<!--[if IE 9]> <html lang=\"en\" class=\"ie9\"> <![endif]-->\n",
      "<!--[if gt IE 8]><!--> <html lang=\"en\"> <!--<![endif]-->\n",
      "  <head>\n",
      "    <!--[if lte ie 8]><script type=\"text/javascript\" src=\"/fanstatic/vendor/:version:2020-02-25T19:16:26.64/html5.min.js\"></script><![endif]-->\n",
      "<link rel=\"stylesheet\" type=\"text/css\" href=\"/fanstatic/vendor/:version:2020-02-25T19:16:26.64/select2/select2.css\" />\n",
      "<link rel=\"stylesheet\" type=\"text/css\" href=\"/fanstatic/css/:version:2020-02-25T19:16:25.50/main.min.css\" />\n",
      "<link rel=\"stylesheet\" type=\"text/css\" href=\"/fanstatic/vendor/:version:2020-02-25T19:16:26.64/font-awesome/css/font-awesome.min.css\" />\n",
      "<!--[if ie 7]><link rel=\"stylesheet\" type=\"text/css\" href=\"/fanstatic/vendor/:version:2020-02-25T19:16:26.64/font-awesome/css/font-awesome-ie7.min.css\" /><![endif]-->\n",
      "<link rel=\"stylesheet\" type=\"text/css\" href=\"/fanstatic/ckanext-h\n"
     ]
    }
   ],
   "source": [
    "print(r.text[0:1000])"
   ]
  },
  {
   "cell_type": "code",
   "execution_count": 5,
   "metadata": {},
   "outputs": [],
   "source": [
    "soup = BeautifulSoup(r.text)"
   ]
  },
  {
   "cell_type": "code",
   "execution_count": 6,
   "metadata": {},
   "outputs": [
    {
     "name": "stdout",
     "output_type": "stream",
     "text": [
      "Hospitals\n",
      "Community Points of Interest\n",
      "IDPH Hospital Directory\n",
      "2009 VHA Facility Quality and Safety Report - Population Quality of Care\n",
      "Hospitals\n",
      "Disproportionate Share Hospital (DSH) Eligibility for State Fiscal Years 2010-2019\n",
      "NYC Health + Hospitals patient satisfaction scores – 2009\n",
      "NYC Health + Hospitals/Options - fees - 2011\n",
      "NYC Health + Hospitals Options - income eligibility - 2011\n",
      "NYC Health + Hospitals patient care locations - 2011\n",
      "Historical - ccgisdata - Hospital Point 2014\n",
      "Hospitals\n",
      "Historical - ccgisdata - Hospital Boundary 2014\n",
      "Community HealthCare Centers\n",
      "Connecticut Hospital Liquidity And Solvency Trend Data\n",
      "Hospitals in Hawaii\n",
      "Licensed Veterinary Hospitals for Fiscal Year 2018 (July 1, 2017 through June 30, 2018)\n",
      "Prevention Quality Indicator (PQI) Composite Measure Rates by County, 2008-2015\n",
      "GNIS: Buildings (2013)\n"
     ]
    }
   ],
   "source": [
    "for link in soup.find_all('h3'):\n",
    "    print(link.a.text)"
   ]
  },
  {
   "cell_type": "code",
   "execution_count": 7,
   "metadata": {},
   "outputs": [
    {
     "name": "stdout",
     "output_type": "stream",
     "text": [
      "Download information about 'Hospitals' from https://data.baltimorecity.gov/api/views/g9ck-7zns/rows.csv?accessType=DOWNLOAD\n",
      "Download information about 'Community Points of Interest' from https://data.townofcary.org/api/v2/catalog/datasets/points-of-interest/exports/csv\n",
      "Download information about 'IDPH Hospital Directory' from https://data.illinois.gov/api/views/wsms-teqm/rows.csv?accessType=DOWNLOAD\n",
      "Download information about '2009 VHA Facility Quality and Safety Report - Population Quality of Care' from https://www.va.gov/VETDATA/docs/Datagov/FY_07_Insurance_Expenditure_by_CD_and_State.csv\n",
      "Download information about 'Hospitals' from http://gis-cityofsfgis.opendata.arcgis.com/datasets/4b6fa48a0c6d4fcb98edbc55c13a634f_11.csv\n",
      "Download information about 'Disproportionate Share Hospital (DSH) Eligibility for State Fiscal Years 2010-2019' from https://data.chhs.ca.gov/dataset/a7379d3c-1e56-4e56-b9f6-398b2a9c7760/resource/b2f096ad-9681-4310-9ab0-6cbf4945c3bf/download/dsh-eligibility_data_rollup-april-2019.csv\n",
      "Download information about 'NYC Health + Hospitals patient satisfaction scores – 2009' from https://data.cityofnewyork.us/api/views/hi3x-y76v/rows.csv?accessType=DOWNLOAD\n",
      "Download information about 'NYC Health + Hospitals/Options - fees - 2011' from https://data.cityofnewyork.us/api/views/3955-c36a/rows.csv?accessType=DOWNLOAD\n",
      "Download information about 'NYC Health + Hospitals Options - income eligibility - 2011' from https://data.cityofnewyork.us/api/views/32yu-maz2/rows.csv?accessType=DOWNLOAD\n",
      "Download information about 'NYC Health + Hospitals patient care locations - 2011' from https://data.cityofnewyork.us/api/views/f7b6-v6v3/rows.csv?accessType=DOWNLOAD\n",
      "Download information about 'Historical - ccgisdata - Hospital Point 2014' from https://datacatalog.cookcountyil.gov/api/views/i7ik-crdu/rows.csv?accessType=DOWNLOAD\n",
      "Download information about 'Hospitals' from https://data.montgomerycountymd.gov/api/views/677d-kzp6/rows.csv?accessType=DOWNLOAD\n",
      "Download information about 'Historical - ccgisdata - Hospital Boundary 2014' from https://datacatalog.cookcountyil.gov/api/views/6h9w-qcb8/rows.csv?accessType=DOWNLOAD\n",
      "Download information about 'Community HealthCare Centers' from https://data.hartford.gov/api/views/n9tp-i3k3/rows.csv?accessType=DOWNLOAD\n",
      "Download information about 'Connecticut Hospital Liquidity And Solvency Trend Data' from https://data.ct.gov/api/views/m4iq-w9dy/rows.csv?accessType=DOWNLOAD\n",
      "Download information about 'Hospitals in Hawaii' from https://data.hawaii.gov/api/views/rwns-g4bn/rows.csv?accessType=DOWNLOAD\n",
      "Download information about 'Licensed Veterinary Hospitals for Fiscal Year 2018 (July 1, 2017 through June 30, 2018)' from https://opendata.maryland.gov/api/views/h6bj-3rua/rows.csv?accessType=DOWNLOAD\n",
      "Download information about 'Prevention Quality Indicator (PQI) Composite Measure Rates by County, 2008-2015' from https://opendata.maryland.gov/api/views/8i54-c2wb/rows.csv?accessType=DOWNLOAD\n"
     ]
    }
   ],
   "source": [
    "for element in soup.find_all('li', 'dataset-item'):\n",
    "    name = element.h3.text.strip()\n",
    "    resources = element.ul\n",
    "    for item in resources.find_all('li'):\n",
    "        if item.text.strip() == 'CSV':\n",
    "            print(\"Download information about '{}' from {}\".format(name,item.a.attrs['href']))\n",
    "            \n",
    "    \n"
   ]
  },
  {
   "cell_type": "markdown",
   "metadata": {},
   "source": [
    "# Getting Table Data\n",
    "\n",
    "\n",
    "In this example, we're going to find an HTML table and extract the data from that table\n",
    "\n",
    "https://open.epic.com/Clinical/Allergy - Error Codes"
   ]
  },
  {
   "cell_type": "code",
   "execution_count": 8,
   "metadata": {},
   "outputs": [],
   "source": [
    "import requests\n",
    "from bs4 import BeautifulSoup\n",
    "import json"
   ]
  },
  {
   "cell_type": "code",
   "execution_count": 9,
   "metadata": {
    "scrolled": true
   },
   "outputs": [
    {
     "name": "stdout",
     "output_type": "stream",
     "text": [
      "<table id=\"errors\">\n",
      "<thead>\n",
      "<tr>\n",
      "<th>Error Code</th>\n",
      "<th>Severity</th>\n",
      "<th>Description</th>\n",
      "<th>Example</th>\n",
      "</tr>\n",
      "</thead>\n",
      "<tbody>\n",
      "<tr>\n",
      "<td>4100</td>\n",
      "<td>Fatal</td>\n",
      "<td>The resource request contained an invalid parameter</td>\n",
      "<td>Invalid parameter such as a non existent patient ID: <code>AllergyIntolerance?patient=foo</code></td>\n",
      "</tr>\n",
      "<tr>\n",
      "<td>4101</td>\n",
      "<td>Warning</td>\n",
      "<td>Resource request returns no results</td>\n",
      "<td>A request for data that was otherwise valid but no information was documented or found (i.e. a patient with no pertinent implanted devices, or a demographic search where no patients met the search criteria).</td>\n",
      "</tr>\n",
      "<tr>\n",
      "<td>4102</td>\n",
      "<td>Fatal</td>\n",
      "<td>The read resource request contained an invalid ID</td>\n",
      "<td>Invalid Resource ID: <code>AllergyIntolerance/foo</code></td>\n",
      "</tr>\n",
      "<tr>\n",
      "<td>4107 </td>\n",
      "<td>Fatal</td>\n",
      "<td>The read resource request has been merged</td>\n",
      "<td>Requesting a Patient which has been merged - in this event, in addition to the error response, we will respond with an HTTP Redirect status. To browsers and many HTTP clients, the redirect will be transparent.</td>\n",
      "</tr>\n",
      "<tr>\n",
      "<td>4110</td>\n",
      "<td>Fatal</td>\n",
      "<td>No parameters are provided in the search request</td>\n",
      "<td>An invalid search request such as : <code>AllergyIntolerance?</code> </td>\n",
      "</tr>\n",
      "<tr>\n",
      "<td>4111</td>\n",
      "<td>Fatal</td>\n",
      "<td>Required search parameter missing from request</td>\n",
      "<td>A request missing a required parameter (such as the patient): <code>Condition?category=diagnosis</code></td>\n",
      "</tr>\n",
      "<tr>\n",
      "<td>4112</td>\n",
      "<td>Fatal</td>\n",
      "<td>The resource request contained an invalid combination of parameters</td>\n",
      "<td>A search containing multiple different patient ID: <code>AllergyIntolerance?patient=[ID 1]&amp;patient=[ID 2]</code></td>\n",
      "</tr>\n",
      "<tr>\n",
      "<td>4113</td>\n",
      "<td>Fatal</td>\n",
      "<td>Session ID for cached search results has expired. </td>\n",
      "<td>Making a request for previously accessed paginated search results after the search has expired.</td>\n",
      "</tr>\n",
      "<tr>\n",
      "<td>4115</td>\n",
      "<td>Fatal</td>\n",
      "<td>Required search parameter has an invalid value</td>\n",
      "<td>An invalid parameter required for searching: <code>Condition?Patient=[ID]&amp;category=foo</code></td>\n",
      "</tr>\n",
      "<tr>\n",
      "<td>4117</td>\n",
      "<td>Warning</td>\n",
      "<td>No CVX code for Immunization resource</td>\n",
      "<td>Request for an Immunization resource without a documented CVX code.</td>\n",
      "</tr>\n",
      "<tr>\n",
      "<td>4118</td>\n",
      "<td>Fatal</td>\n",
      "<td>User not authorized for request</td>\n",
      "<td>Request data that the authenticated user is not allowed access to view (i.e. a patient asking for data about a stranger's allergies).</td>\n",
      "</tr>\n",
      "<tr>\n",
      "<td>4119</td>\n",
      "<td>Warning</td>\n",
      "<td>Additional data may be present for patient</td>\n",
      "<td>Request data while authenticated as an authorized patient or patient proxy. Inidicates that data available to the patient may not be the complete medical record within the system.</td>\n",
      "</tr>\n",
      "</tbody>\n",
      "</table>\n"
     ]
    }
   ],
   "source": [
    "url = 'https://open.epic.com/Clinical/Allergy'\n",
    "r  = requests.get(url)\n",
    "data = r.text\n",
    "\n",
    "soup = BeautifulSoup(data)\n",
    "\n",
    "table = soup.find('table',id='errors')\n",
    "print(table)"
   ]
  },
  {
   "cell_type": "code",
   "execution_count": 10,
   "metadata": {},
   "outputs": [
    {
     "data": {
      "text/plain": [
       "['Error Code', 'Severity', 'Description', 'Example']"
      ]
     },
     "execution_count": 10,
     "metadata": {},
     "output_type": "execute_result"
    }
   ],
   "source": [
    "# In HTML tables, there is usually a <thead> section to tell us what the column headers are.\n",
    "# Let's load those into a simple list of headers[]\n",
    "headers = []\n",
    "for cell in table.thead.tr.find_all('th'):\n",
    "    headers.append(cell.text)\n",
    "\n",
    "headers"
   ]
  },
  {
   "cell_type": "code",
   "execution_count": 11,
   "metadata": {},
   "outputs": [],
   "source": [
    "# In HTML tables, the rows are in a <tbody> section\n",
    "errors = {}\n",
    "for row in table.tbody.find_all('tr'):\n",
    "    colnum = 0\n",
    "    for cell in row.find_all('td'):\n",
    "        if colnum == 0:\n",
    "            error_cd = cell.text\n",
    "            errors.setdefault(error_cd, {})\n",
    "        else:\n",
    "            column = headers[colnum]\n",
    "            errors[error_cd][column] = cell.text\n",
    "        colnum += 1"
   ]
  },
  {
   "cell_type": "code",
   "execution_count": 12,
   "metadata": {},
   "outputs": [
    {
     "name": "stdout",
     "output_type": "stream",
     "text": [
      "{\n",
      "    \"4100\": {\n",
      "        \"Severity\": \"Fatal\",\n",
      "        \"Description\": \"The resource request contained an invalid parameter\",\n",
      "        \"Example\": \"Invalid parameter such as a non existent patient ID: AllergyIntolerance?patient=foo\"\n",
      "    },\n",
      "    \"4101\": {\n",
      "        \"Severity\": \"Warning\",\n",
      "        \"Description\": \"Resource request returns\\u00a0no results\",\n",
      "        \"Example\": \"A request for data that was otherwise valid but no information was documented or found (i.e. a patient with no pertinent implanted devices, or a demographic search where no patients met the search criteria).\"\n",
      "    },\n",
      "    \"4102\": {\n",
      "        \"Severity\": \"Fatal\",\n",
      "        \"Description\": \"The read resource request contained an invalid ID\",\n",
      "        \"Example\": \"Invalid Resource ID: AllergyIntolerance/foo\"\n",
      "    },\n",
      "    \"4107 \": {\n",
      "        \"Severity\": \"Fatal\",\n",
      "        \"Description\": \"The read resource request has been merged\",\n",
      "        \"Example\": \"Requesting a Patient which has been merged - in this event, in addition to the error response, we will respond with an HTTP Redirect status. To browsers and many HTTP clients, the redirect will be transparent.\"\n",
      "    },\n",
      "    \"4110\": {\n",
      "        \"Severity\": \"Fatal\",\n",
      "        \"Description\": \"No parameters are provided in the search request\",\n",
      "        \"Example\": \"An invalid search request such as : AllergyIntolerance? \"\n",
      "    },\n",
      "    \"4111\": {\n",
      "        \"Severity\": \"Fatal\",\n",
      "        \"Description\": \"Required search parameter missing from request\",\n",
      "        \"Example\": \"A request missing a required parameter (such as the patient): Condition?category=diagnosis\"\n",
      "    },\n",
      "    \"4112\": {\n",
      "        \"Severity\": \"Fatal\",\n",
      "        \"Description\": \"The resource request contained an invalid combination of parameters\",\n",
      "        \"Example\": \"A search containing multiple different patient ID: AllergyIntolerance?patient=[ID 1]&patient=[ID 2]\"\n",
      "    },\n",
      "    \"4113\": {\n",
      "        \"Severity\": \"Fatal\",\n",
      "        \"Description\": \"Session ID for cached search results has expired. \",\n",
      "        \"Example\": \"Making a request for previously accessed paginated search results after the search has expired.\"\n",
      "    },\n",
      "    \"4115\": {\n",
      "        \"Severity\": \"Fatal\",\n",
      "        \"Description\": \"Required search parameter has an invalid value\",\n",
      "        \"Example\": \"An invalid parameter required for searching: Condition?Patient=[ID]&category=foo\"\n",
      "    },\n",
      "    \"4117\": {\n",
      "        \"Severity\": \"Warning\",\n",
      "        \"Description\": \"No CVX code for Immunization resource\",\n",
      "        \"Example\": \"Request for an Immunization resource without a documented CVX code.\"\n",
      "    },\n",
      "    \"4118\": {\n",
      "        \"Severity\": \"Fatal\",\n",
      "        \"Description\": \"User not authorized for request\",\n",
      "        \"Example\": \"Request data that the authenticated user is not allowed access to view (i.e. a patient asking for data about a stranger's allergies).\"\n",
      "    },\n",
      "    \"4119\": {\n",
      "        \"Severity\": \"Warning\",\n",
      "        \"Description\": \"Additional data may be present for patient\",\n",
      "        \"Example\": \"Request data while authenticated as an authorized patient or patient proxy. Inidicates that data available to the patient may not be the complete medical record within the system.\"\n",
      "    }\n",
      "}\n"
     ]
    }
   ],
   "source": [
    "print(json.dumps(errors, indent=4))"
   ]
  },
  {
   "cell_type": "code",
   "execution_count": 13,
   "metadata": {},
   "outputs": [
    {
     "data": {
      "text/plain": [
       "{'Severity': 'Warning',\n",
       " 'Description': 'Additional data may be present for patient',\n",
       " 'Example': 'Request data while authenticated as an authorized patient or patient proxy. Inidicates that data available to the patient may not be the complete medical record within the system.'}"
      ]
     },
     "execution_count": 13,
     "metadata": {},
     "output_type": "execute_result"
    }
   ],
   "source": [
    "errors.get('4119')"
   ]
  },
  {
   "cell_type": "code",
   "execution_count": 14,
   "metadata": {},
   "outputs": [
    {
     "data": {
      "text/plain": [
       "'Warning'"
      ]
     },
     "execution_count": 14,
     "metadata": {},
     "output_type": "execute_result"
    }
   ],
   "source": [
    "errors.get('4119')['Severity']"
   ]
  },
  {
   "cell_type": "markdown",
   "metadata": {},
   "source": [
    "## Reading HTML Tables with Pandas\n",
    "\n",
    "Pandas has the ability to read HTML, too.  In ideal circumstances, it will scour whatever page you give it and find all of the tables there.  The result from `read_html()` will be a list of dataframes.\n",
    "\n",
    "https://pandas.pydata.org/pandas-docs/version/0.23.4/generated/pandas.read_html.html"
   ]
  },
  {
   "cell_type": "code",
   "execution_count": 15,
   "metadata": {},
   "outputs": [],
   "source": [
    "import pandas as pd"
   ]
  },
  {
   "cell_type": "code",
   "execution_count": 16,
   "metadata": {},
   "outputs": [],
   "source": [
    "dfs = pd.read_html('https://open.epic.com/Clinical/Allergy')"
   ]
  },
  {
   "cell_type": "code",
   "execution_count": 17,
   "metadata": {},
   "outputs": [
    {
     "data": {
      "text/plain": [
       "[                            Relative URL FHIR Interaction HTTP Method  \\\n",
       " 0  /AllergyIntolerance?[parameter=value]           Search         Get   \n",
       " \n",
       "                                               Action  \n",
       " 0  Retrieve AllergyIntolerance resources using th...  ,\n",
       "   Parameter Name Parameter Type  \\\n",
       " 0            _id      Reference   \n",
       " 1        patient      Reference   \n",
       " 2          onset           Date   \n",
       " \n",
       "                                          Description  \n",
       " 0  Search for AllergyIntolerance resources using ...  \n",
       " 1  Search for AllergyIntolerance resources for a ...  \n",
       " 2  Further refine a search for AllergyIntolerance...  ,\n",
       "                                                Query  \\\n",
       " 0  /AllergyIntolerance?patient=Tbt3KuCY0B5PSrJvCu...   \n",
       " \n",
       "                                       Result  \n",
       " 0  Returns the allergies for Jason Argonaut.  ,\n",
       "                Relative URL FHIR Interaction HTTP Method  \\\n",
       " 0  /AllergyIntolerance/{ID}             Read         Get   \n",
       " \n",
       "                                          Action  \n",
       " 0  Retrieve details about AllergyIntolerance ID  ,\n",
       "     Error Code Severity                                        Description  \\\n",
       " 0         4100    Fatal  The resource request contained an invalid para...   \n",
       " 1         4101  Warning               Resource request returnsÂ no results   \n",
       " 2         4102    Fatal  The read resource request contained an invalid ID   \n",
       " 3         4107    Fatal          The read resource request has been merged   \n",
       " 4         4110    Fatal   No parameters are provided in the search request   \n",
       " 5         4111    Fatal     Required search parameter missing from request   \n",
       " 6         4112    Fatal  The resource request contained an invalid comb...   \n",
       " 7         4113    Fatal  Session ID for cached search results has expired.   \n",
       " 8         4115    Fatal     Required search parameter has an invalid value   \n",
       " 9         4117  Warning              No CVX code for Immunization resource   \n",
       " 10        4118    Fatal                    User not authorized for request   \n",
       " 11        4119  Warning         Additional data may be present for patient   \n",
       " \n",
       "                                               Example  \n",
       " 0   Invalid parameter such as a non existent patie...  \n",
       " 1   A request for data that was otherwise valid bu...  \n",
       " 2         Invalid Resource ID: AllergyIntolerance/foo  \n",
       " 3   Requesting a Patient which has been merged - i...  \n",
       " 4   An invalid search request such as : AllergyInt...  \n",
       " 5   A request missing a required parameter (such a...  \n",
       " 6   A search containing multiple different patient...  \n",
       " 7   Making a request for previously accessed pagin...  \n",
       " 8   An invalid parameter required for searching: C...  \n",
       " 9   Request for an Immunization resource without a...  \n",
       " 10  Request data that the authenticated user is no...  \n",
       " 11  Request data while authenticated as an authori...  ]"
      ]
     },
     "execution_count": 17,
     "metadata": {},
     "output_type": "execute_result"
    }
   ],
   "source": [
    "dfs"
   ]
  },
  {
   "cell_type": "code",
   "execution_count": 18,
   "metadata": {},
   "outputs": [
    {
     "data": {
      "text/html": [
       "<div>\n",
       "<style scoped>\n",
       "    .dataframe tbody tr th:only-of-type {\n",
       "        vertical-align: middle;\n",
       "    }\n",
       "\n",
       "    .dataframe tbody tr th {\n",
       "        vertical-align: top;\n",
       "    }\n",
       "\n",
       "    .dataframe thead th {\n",
       "        text-align: right;\n",
       "    }\n",
       "</style>\n",
       "<table border=\"1\" class=\"dataframe\">\n",
       "  <thead>\n",
       "    <tr style=\"text-align: right;\">\n",
       "      <th></th>\n",
       "      <th>Error Code</th>\n",
       "      <th>Severity</th>\n",
       "      <th>Description</th>\n",
       "      <th>Example</th>\n",
       "    </tr>\n",
       "  </thead>\n",
       "  <tbody>\n",
       "    <tr>\n",
       "      <th>0</th>\n",
       "      <td>4100</td>\n",
       "      <td>Fatal</td>\n",
       "      <td>The resource request contained an invalid para...</td>\n",
       "      <td>Invalid parameter such as a non existent patie...</td>\n",
       "    </tr>\n",
       "    <tr>\n",
       "      <th>1</th>\n",
       "      <td>4101</td>\n",
       "      <td>Warning</td>\n",
       "      <td>Resource request returnsÂ no results</td>\n",
       "      <td>A request for data that was otherwise valid bu...</td>\n",
       "    </tr>\n",
       "    <tr>\n",
       "      <th>2</th>\n",
       "      <td>4102</td>\n",
       "      <td>Fatal</td>\n",
       "      <td>The read resource request contained an invalid ID</td>\n",
       "      <td>Invalid Resource ID: AllergyIntolerance/foo</td>\n",
       "    </tr>\n",
       "    <tr>\n",
       "      <th>3</th>\n",
       "      <td>4107</td>\n",
       "      <td>Fatal</td>\n",
       "      <td>The read resource request has been merged</td>\n",
       "      <td>Requesting a Patient which has been merged - i...</td>\n",
       "    </tr>\n",
       "    <tr>\n",
       "      <th>4</th>\n",
       "      <td>4110</td>\n",
       "      <td>Fatal</td>\n",
       "      <td>No parameters are provided in the search request</td>\n",
       "      <td>An invalid search request such as : AllergyInt...</td>\n",
       "    </tr>\n",
       "    <tr>\n",
       "      <th>5</th>\n",
       "      <td>4111</td>\n",
       "      <td>Fatal</td>\n",
       "      <td>Required search parameter missing from request</td>\n",
       "      <td>A request missing a required parameter (such a...</td>\n",
       "    </tr>\n",
       "    <tr>\n",
       "      <th>6</th>\n",
       "      <td>4112</td>\n",
       "      <td>Fatal</td>\n",
       "      <td>The resource request contained an invalid comb...</td>\n",
       "      <td>A search containing multiple different patient...</td>\n",
       "    </tr>\n",
       "    <tr>\n",
       "      <th>7</th>\n",
       "      <td>4113</td>\n",
       "      <td>Fatal</td>\n",
       "      <td>Session ID for cached search results has expired.</td>\n",
       "      <td>Making a request for previously accessed pagin...</td>\n",
       "    </tr>\n",
       "    <tr>\n",
       "      <th>8</th>\n",
       "      <td>4115</td>\n",
       "      <td>Fatal</td>\n",
       "      <td>Required search parameter has an invalid value</td>\n",
       "      <td>An invalid parameter required for searching: C...</td>\n",
       "    </tr>\n",
       "    <tr>\n",
       "      <th>9</th>\n",
       "      <td>4117</td>\n",
       "      <td>Warning</td>\n",
       "      <td>No CVX code for Immunization resource</td>\n",
       "      <td>Request for an Immunization resource without a...</td>\n",
       "    </tr>\n",
       "    <tr>\n",
       "      <th>10</th>\n",
       "      <td>4118</td>\n",
       "      <td>Fatal</td>\n",
       "      <td>User not authorized for request</td>\n",
       "      <td>Request data that the authenticated user is no...</td>\n",
       "    </tr>\n",
       "    <tr>\n",
       "      <th>11</th>\n",
       "      <td>4119</td>\n",
       "      <td>Warning</td>\n",
       "      <td>Additional data may be present for patient</td>\n",
       "      <td>Request data while authenticated as an authori...</td>\n",
       "    </tr>\n",
       "  </tbody>\n",
       "</table>\n",
       "</div>"
      ],
      "text/plain": [
       "    Error Code Severity                                        Description  \\\n",
       "0         4100    Fatal  The resource request contained an invalid para...   \n",
       "1         4101  Warning               Resource request returnsÂ no results   \n",
       "2         4102    Fatal  The read resource request contained an invalid ID   \n",
       "3         4107    Fatal          The read resource request has been merged   \n",
       "4         4110    Fatal   No parameters are provided in the search request   \n",
       "5         4111    Fatal     Required search parameter missing from request   \n",
       "6         4112    Fatal  The resource request contained an invalid comb...   \n",
       "7         4113    Fatal  Session ID for cached search results has expired.   \n",
       "8         4115    Fatal     Required search parameter has an invalid value   \n",
       "9         4117  Warning              No CVX code for Immunization resource   \n",
       "10        4118    Fatal                    User not authorized for request   \n",
       "11        4119  Warning         Additional data may be present for patient   \n",
       "\n",
       "                                              Example  \n",
       "0   Invalid parameter such as a non existent patie...  \n",
       "1   A request for data that was otherwise valid bu...  \n",
       "2         Invalid Resource ID: AllergyIntolerance/foo  \n",
       "3   Requesting a Patient which has been merged - i...  \n",
       "4   An invalid search request such as : AllergyInt...  \n",
       "5   A request missing a required parameter (such a...  \n",
       "6   A search containing multiple different patient...  \n",
       "7   Making a request for previously accessed pagin...  \n",
       "8   An invalid parameter required for searching: C...  \n",
       "9   Request for an Immunization resource without a...  \n",
       "10  Request data that the authenticated user is no...  \n",
       "11  Request data while authenticated as an authori...  "
      ]
     },
     "execution_count": 18,
     "metadata": {},
     "output_type": "execute_result"
    }
   ],
   "source": [
    "dfs[4]"
   ]
  },
  {
   "cell_type": "code",
   "execution_count": null,
   "metadata": {},
   "outputs": [],
   "source": []
  }
 ],
 "metadata": {
  "kernelspec": {
   "display_name": "Python 3",
   "language": "python",
   "name": "python3"
  },
  "language_info": {
   "codemirror_mode": {
    "name": "ipython",
    "version": 3
   },
   "file_extension": ".py",
   "mimetype": "text/x-python",
   "name": "python",
   "nbconvert_exporter": "python",
   "pygments_lexer": "ipython3",
   "version": "3.6.7"
  }
 },
 "nbformat": 4,
 "nbformat_minor": 2
}
