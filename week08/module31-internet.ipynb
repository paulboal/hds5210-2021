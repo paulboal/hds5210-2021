{
 "cells": [
  {
   "cell_type": "markdown",
   "metadata": {},
   "source": [
    "## Using the Requests module to get a file\n",
    "\n",
    "Documentation for Requests is available at https://requests.readthedocs.io/en/latest/\n",
    "\n",
    "This demonstration simply requests a file from the HHS Open Data portal: https://healthdata.gov/dataset/electronic-health-record-ehr-incentive-program-payments-eligible-hospitals\n",
    "\n",
    "In this example, we get the file from HHS inspect some interesting information about it, then write the data to a local file."
   ]
  },
  {
   "cell_type": "code",
   "execution_count": 1,
   "metadata": {},
   "outputs": [],
   "source": [
    "import requests"
   ]
  },
  {
   "cell_type": "code",
   "execution_count": 2,
   "metadata": {},
   "outputs": [],
   "source": [
    "r = requests.get('http://dhcs-chhsagency.opendata.arcgis.com/datasets/8e4f3a0c75b9424d888d11c1f949cc32_0.csv?outSR={%22latestWkid%22:3857,%22wkid%22:102100}')"
   ]
  },
  {
   "cell_type": "code",
   "execution_count": 3,
   "metadata": {},
   "outputs": [
    {
     "data": {
      "text/plain": [
       "requests.models.Response"
      ]
     },
     "execution_count": 3,
     "metadata": {},
     "output_type": "execute_result"
    }
   ],
   "source": [
    "type(r)"
   ]
  },
  {
   "cell_type": "code",
   "execution_count": 4,
   "metadata": {},
   "outputs": [
    {
     "data": {
      "text/plain": [
       "200"
      ]
     },
     "execution_count": 4,
     "metadata": {},
     "output_type": "execute_result"
    }
   ],
   "source": [
    "r.status_code"
   ]
  },
  {
   "cell_type": "code",
   "execution_count": 5,
   "metadata": {},
   "outputs": [
    {
     "data": {
      "text/plain": [
       "69065"
      ]
     },
     "execution_count": 5,
     "metadata": {},
     "output_type": "execute_result"
    }
   ],
   "source": [
    "len(r.text)"
   ]
  },
  {
   "cell_type": "code",
   "execution_count": 7,
   "metadata": {},
   "outputs": [
    {
     "name": "stdout",
     "output_type": "stream",
     "text": [
      "﻿X,Y,Provider_Name,NPI,CCN,Medicaid_EP_Hospital_Type,Street_Address,City,County,State,Zip_Code,Payment_Year_Number,Program_Type,Total_payments,Last_Program_Year,Last_Payment_Year,Last_Payment_Criteria,Most_Recent_Disbursement_Amount,LONGITUDE,LATITUDE,FID\n",
      "-122.435802,37.769062,Sutter Bay Hospitals,1659439834,50008,Acute Care Hospitals,CASTRO & DUBOCE STS,SAN FRANCISCO,San Francisco,CA,94114,3,Medicare/Medicaid,638474,2015,2017,MU,70942,-122.435802,37.769062,1\n",
      "-117.913856,33.774499,PRIME HEALTHCARE SERVICES - GARDEN GROVE LLC,1659538858,50230,Acute Care Hospitals,12601 GARDEN GROVE BLVD,GARDEN GROVE,Orange,CA,92843,4,Medicare/Medicaid,3947489,2014,2015,MU,394749,-117.913856,33.774499,2\n",
      "-117.262672,34.539918,ST MARY MEDICAL CENTER,1669456299,50300,Acute Care Hospitals,18300 US HIGHWAY 18,APPLE VALLEY,San Bernardino,CA,92307,3,Medicare/Medicaid,3062645,2014,2015,MU,340294,-117.262672,34.539918,3\n",
      "-120.045618,36.945447,MADERA COMMUNITY HOSPITAL,1669673646,50568,Acute Care Hospitals,1250 E A\n"
     ]
    }
   ],
   "source": [
    "print(r.text[0:1000])"
   ]
  },
  {
   "cell_type": "code",
   "execution_count": 6,
   "metadata": {},
   "outputs": [
    {
     "data": {
      "text/plain": [
       "'\\ufeffX,Y,Provider_Name,NPI,CCN,Medicaid_EP_Hospital_Type,Street_Address,City,County,State,Zip_Code,Payment_Year_Number,Program_Type,Total_payments,Last_Program_Year,Last_Payment_Year,Last_Payment_Criteria,Most_Recent_Disbursement_Amount,LONGITUDE,LATITUDE,FID\\n-122.435802,37.769062,Sutter Bay Hospitals,1659439834,50008,Acute Care Hospitals,CASTRO & DUBOCE STS,SAN FRANCISCO,San Francisco,CA,94114,3,Medicare/Medicaid,638474,2015,2017,MU,70942,-122.435802,37.769062,1\\n-117.913856,33.774499,PRIME HEALTHCARE SERVICES - GARDEN GROVE LLC,1659538858,50230,Acute Care Hospitals,12601 GARDEN GROVE BLVD,GARDEN GROVE,Orange,CA,92843,4,Medicare/Medicaid,3947489,2014,2015,MU,394749,-117.913856,33.774499,2\\n-117.262672,34.539918,ST MARY MEDICAL CENTER,1669456299,50300,Acute Care Hospitals,18300 US HIGHWAY 18,APPLE VALLEY,San Bernardino,CA,92307,3,Medicare/Medicaid,3062645,2014,2015,MU,340294,-117.262672,34.539918,3\\n-120.045618,36.945447,MADERA COMMUNITY HOSPITAL,1669673646,50568,Acute Care Hospitals,1250 E A'"
      ]
     },
     "execution_count": 6,
     "metadata": {},
     "output_type": "execute_result"
    }
   ],
   "source": [
    "r.text[0:1000]"
   ]
  },
  {
   "cell_type": "code",
   "execution_count": 8,
   "metadata": {},
   "outputs": [],
   "source": [
    "with open('nadac.csv','w') as f:\n",
    "    f.write(r.text)"
   ]
  },
  {
   "cell_type": "code",
   "execution_count": 10,
   "metadata": {},
   "outputs": [
    {
     "data": {
      "text/plain": [
       "requests.structures.CaseInsensitiveDict"
      ]
     },
     "execution_count": 10,
     "metadata": {},
     "output_type": "execute_result"
    }
   ],
   "source": [
    "type(r.headers)"
   ]
  },
  {
   "cell_type": "code",
   "execution_count": 9,
   "metadata": {},
   "outputs": [
    {
     "name": "stdout",
     "output_type": "stream",
     "text": [
      "{\n",
      "    \"Content-disposition\": \"attachment; filename=Electronic_Health_Record_EHR_Incentive_Program_Payments_to_Eligible_Hospitals.csv\",\n",
      "    \"Content-Encoding\": \"gzip\",\n",
      "    \"Content-Type\": \"text/csv; charset=utf-8\",\n",
      "    \"Date\": \"Wed, 26 Feb 2020 00:34:30 GMT\",\n",
      "    \"ETag\": \"\\\"996569756dccc998a491bb0b489bb7a4\\\"\",\n",
      "    \"Last-Modified\": \"Fri, 24 Aug 2018 21:36:33 GMT\",\n",
      "    \"Server\": \"openresty\",\n",
      "    \"Vary\": \"Accept-Encoding\",\n",
      "    \"x-amz-meta-retrieved_at\": \"Fri Aug 24 2018 21:36:32 GMT+0000 (UTC)\",\n",
      "    \"Content-Length\": \"21684\",\n",
      "    \"Connection\": \"keep-alive\"\n",
      "}\n"
     ]
    }
   ],
   "source": [
    "import json\n",
    "print(json.dumps(dict(r.headers), indent=4))"
   ]
  },
  {
   "cell_type": "markdown",
   "metadata": {},
   "source": [
    "### Total payments in this file?"
   ]
  },
  {
   "cell_type": "code",
   "execution_count": 11,
   "metadata": {},
   "outputs": [],
   "source": [
    "import csv"
   ]
  },
  {
   "cell_type": "code",
   "execution_count": 12,
   "metadata": {},
   "outputs": [
    {
     "name": "stdout",
     "output_type": "stream",
     "text": [
      "['\\ufeffX', 'Y', 'Provider_Name', 'NPI', 'CCN', 'Medicaid_EP_Hospital_Type', 'Street_Address', 'City', 'County', 'State', 'Zip_Code', 'Payment_Year_Number', 'Program_Type', 'Total_payments', 'Last_Program_Year', 'Last_Payment_Year', 'Last_Payment_Criteria', 'Most_Recent_Disbursement_Amount', 'LONGITUDE', 'LATITUDE', 'FID']\n"
     ]
    }
   ],
   "source": [
    "total = 0\n",
    "\n",
    "with open('nadac.csv') as f:\n",
    "    reader = csv.reader(f)\n",
    "\n",
    "    header = next(reader)\n",
    "    print(header)\n",
    "    payments_idx = header.index('Total_payments')\n",
    "    \n",
    "    for record in reader:\n",
    "        total += int(record[payments_idx])\n",
    "\n"
   ]
  },
  {
   "cell_type": "code",
   "execution_count": 13,
   "metadata": {},
   "outputs": [
    {
     "name": "stdout",
     "output_type": "stream",
     "text": [
      "CA hospitals have received $758,058,589.00 in payments.\n"
     ]
    }
   ],
   "source": [
    "print(\"CA hospitals have received ${:,.2f} in payments.\".format(total))"
   ]
  },
  {
   "cell_type": "code",
   "execution_count": null,
   "metadata": {},
   "outputs": [],
   "source": []
  },
  {
   "cell_type": "markdown",
   "metadata": {},
   "source": [
    "## Reading internet files with Pandas\n",
    "\n",
    "Pandas is smart enough to know that when you provide an HTTP url it is supposed to go access that data from the internet.\n",
    "\n",
    "https://pandas.pydata.org/pandas-docs/version/0.23.4/io.html\n"
   ]
  },
  {
   "cell_type": "code",
   "execution_count": 14,
   "metadata": {},
   "outputs": [],
   "source": [
    "import pandas as pd"
   ]
  },
  {
   "cell_type": "code",
   "execution_count": 15,
   "metadata": {},
   "outputs": [],
   "source": [
    "df = pd.read_csv('http://dhcs-chhsagency.opendata.arcgis.com/datasets/8e4f3a0c75b9424d888d11c1f949cc32_0.csv')"
   ]
  },
  {
   "cell_type": "code",
   "execution_count": 16,
   "metadata": {},
   "outputs": [
    {
     "data": {
      "text/html": [
       "<div>\n",
       "<style scoped>\n",
       "    .dataframe tbody tr th:only-of-type {\n",
       "        vertical-align: middle;\n",
       "    }\n",
       "\n",
       "    .dataframe tbody tr th {\n",
       "        vertical-align: top;\n",
       "    }\n",
       "\n",
       "    .dataframe thead th {\n",
       "        text-align: right;\n",
       "    }\n",
       "</style>\n",
       "<table border=\"1\" class=\"dataframe\">\n",
       "  <thead>\n",
       "    <tr style=\"text-align: right;\">\n",
       "      <th></th>\n",
       "      <th>X</th>\n",
       "      <th>Y</th>\n",
       "      <th>Provider_Name</th>\n",
       "      <th>NPI</th>\n",
       "      <th>CCN</th>\n",
       "      <th>Medicaid_EP_Hospital_Type</th>\n",
       "      <th>Street_Address</th>\n",
       "      <th>City</th>\n",
       "      <th>County</th>\n",
       "      <th>State</th>\n",
       "      <th>...</th>\n",
       "      <th>Payment_Year_Number</th>\n",
       "      <th>Program_Type</th>\n",
       "      <th>Total_payments</th>\n",
       "      <th>Last_Program_Year</th>\n",
       "      <th>Last_Payment_Year</th>\n",
       "      <th>Last_Payment_Criteria</th>\n",
       "      <th>Most_Recent_Disbursement_Amount</th>\n",
       "      <th>LONGITUDE</th>\n",
       "      <th>LATITUDE</th>\n",
       "      <th>FID</th>\n",
       "    </tr>\n",
       "  </thead>\n",
       "  <tbody>\n",
       "    <tr>\n",
       "      <th>0</th>\n",
       "      <td>-122.435802</td>\n",
       "      <td>37.769062</td>\n",
       "      <td>Sutter Bay Hospitals</td>\n",
       "      <td>1659439834</td>\n",
       "      <td>50008</td>\n",
       "      <td>Acute Care Hospitals</td>\n",
       "      <td>CASTRO &amp; DUBOCE STS</td>\n",
       "      <td>SAN FRANCISCO</td>\n",
       "      <td>San Francisco</td>\n",
       "      <td>CA</td>\n",
       "      <td>...</td>\n",
       "      <td>3</td>\n",
       "      <td>Medicare/Medicaid</td>\n",
       "      <td>638474</td>\n",
       "      <td>2015</td>\n",
       "      <td>2017</td>\n",
       "      <td>MU</td>\n",
       "      <td>70942</td>\n",
       "      <td>-122.435802</td>\n",
       "      <td>37.769062</td>\n",
       "      <td>1</td>\n",
       "    </tr>\n",
       "    <tr>\n",
       "      <th>1</th>\n",
       "      <td>-117.913856</td>\n",
       "      <td>33.774499</td>\n",
       "      <td>PRIME HEALTHCARE SERVICES - GARDEN GROVE LLC</td>\n",
       "      <td>1659538858</td>\n",
       "      <td>50230</td>\n",
       "      <td>Acute Care Hospitals</td>\n",
       "      <td>12601 GARDEN GROVE BLVD</td>\n",
       "      <td>GARDEN GROVE</td>\n",
       "      <td>Orange</td>\n",
       "      <td>CA</td>\n",
       "      <td>...</td>\n",
       "      <td>4</td>\n",
       "      <td>Medicare/Medicaid</td>\n",
       "      <td>3947489</td>\n",
       "      <td>2014</td>\n",
       "      <td>2015</td>\n",
       "      <td>MU</td>\n",
       "      <td>394749</td>\n",
       "      <td>-117.913856</td>\n",
       "      <td>33.774499</td>\n",
       "      <td>2</td>\n",
       "    </tr>\n",
       "    <tr>\n",
       "      <th>2</th>\n",
       "      <td>-117.262672</td>\n",
       "      <td>34.539918</td>\n",
       "      <td>ST MARY MEDICAL CENTER</td>\n",
       "      <td>1669456299</td>\n",
       "      <td>50300</td>\n",
       "      <td>Acute Care Hospitals</td>\n",
       "      <td>18300 US HIGHWAY 18</td>\n",
       "      <td>APPLE VALLEY</td>\n",
       "      <td>San Bernardino</td>\n",
       "      <td>CA</td>\n",
       "      <td>...</td>\n",
       "      <td>3</td>\n",
       "      <td>Medicare/Medicaid</td>\n",
       "      <td>3062645</td>\n",
       "      <td>2014</td>\n",
       "      <td>2015</td>\n",
       "      <td>MU</td>\n",
       "      <td>340294</td>\n",
       "      <td>-117.262672</td>\n",
       "      <td>34.539918</td>\n",
       "      <td>3</td>\n",
       "    </tr>\n",
       "    <tr>\n",
       "      <th>3</th>\n",
       "      <td>-120.045618</td>\n",
       "      <td>36.945447</td>\n",
       "      <td>MADERA COMMUNITY HOSPITAL</td>\n",
       "      <td>1669673646</td>\n",
       "      <td>50568</td>\n",
       "      <td>Acute Care Hospitals</td>\n",
       "      <td>1250 E ALMOND AVE</td>\n",
       "      <td>MADERA</td>\n",
       "      <td>Madera</td>\n",
       "      <td>CA</td>\n",
       "      <td>...</td>\n",
       "      <td>4</td>\n",
       "      <td>Medicare/Medicaid</td>\n",
       "      <td>2057365</td>\n",
       "      <td>2015</td>\n",
       "      <td>2016</td>\n",
       "      <td>MU</td>\n",
       "      <td>205737</td>\n",
       "      <td>-120.045618</td>\n",
       "      <td>36.945447</td>\n",
       "      <td>4</td>\n",
       "    </tr>\n",
       "    <tr>\n",
       "      <th>4</th>\n",
       "      <td>-117.117197</td>\n",
       "      <td>33.470664</td>\n",
       "      <td>Temecula Valley Hospital Inc</td>\n",
       "      <td>1679816201</td>\n",
       "      <td>50775</td>\n",
       "      <td>Acute Care Hospitals</td>\n",
       "      <td>31700 TEMECULA PKWY</td>\n",
       "      <td>TEMECULA</td>\n",
       "      <td>Riverside</td>\n",
       "      <td>CA</td>\n",
       "      <td>...</td>\n",
       "      <td>1</td>\n",
       "      <td>Medicare/Medicaid</td>\n",
       "      <td>474790</td>\n",
       "      <td>2016</td>\n",
       "      <td>2017</td>\n",
       "      <td>AIU</td>\n",
       "      <td>474790</td>\n",
       "      <td>-117.117197</td>\n",
       "      <td>33.470664</td>\n",
       "      <td>5</td>\n",
       "    </tr>\n",
       "  </tbody>\n",
       "</table>\n",
       "<p>5 rows × 21 columns</p>\n",
       "</div>"
      ],
      "text/plain": [
       "            X          Y                                 Provider_Name  \\\n",
       "0 -122.435802  37.769062                          Sutter Bay Hospitals   \n",
       "1 -117.913856  33.774499  PRIME HEALTHCARE SERVICES - GARDEN GROVE LLC   \n",
       "2 -117.262672  34.539918                        ST MARY MEDICAL CENTER   \n",
       "3 -120.045618  36.945447                     MADERA COMMUNITY HOSPITAL   \n",
       "4 -117.117197  33.470664                  Temecula Valley Hospital Inc   \n",
       "\n",
       "          NPI    CCN Medicaid_EP_Hospital_Type           Street_Address  \\\n",
       "0  1659439834  50008      Acute Care Hospitals      CASTRO & DUBOCE STS   \n",
       "1  1659538858  50230      Acute Care Hospitals  12601 GARDEN GROVE BLVD   \n",
       "2  1669456299  50300      Acute Care Hospitals      18300 US HIGHWAY 18   \n",
       "3  1669673646  50568      Acute Care Hospitals        1250 E ALMOND AVE   \n",
       "4  1679816201  50775      Acute Care Hospitals      31700 TEMECULA PKWY   \n",
       "\n",
       "            City          County State  ...  Payment_Year_Number  \\\n",
       "0  SAN FRANCISCO   San Francisco    CA  ...                    3   \n",
       "1   GARDEN GROVE          Orange    CA  ...                    4   \n",
       "2   APPLE VALLEY  San Bernardino    CA  ...                    3   \n",
       "3         MADERA          Madera    CA  ...                    4   \n",
       "4       TEMECULA       Riverside    CA  ...                    1   \n",
       "\n",
       "        Program_Type Total_payments  Last_Program_Year  Last_Payment_Year  \\\n",
       "0  Medicare/Medicaid         638474               2015               2017   \n",
       "1  Medicare/Medicaid        3947489               2014               2015   \n",
       "2  Medicare/Medicaid        3062645               2014               2015   \n",
       "3  Medicare/Medicaid        2057365               2015               2016   \n",
       "4  Medicare/Medicaid         474790               2016               2017   \n",
       "\n",
       "   Last_Payment_Criteria Most_Recent_Disbursement_Amount   LONGITUDE  \\\n",
       "0                     MU                           70942 -122.435802   \n",
       "1                     MU                          394749 -117.913856   \n",
       "2                     MU                          340294 -117.262672   \n",
       "3                     MU                          205737 -120.045618   \n",
       "4                    AIU                          474790 -117.117197   \n",
       "\n",
       "    LATITUDE  FID  \n",
       "0  37.769062    1  \n",
       "1  33.774499    2  \n",
       "2  34.539918    3  \n",
       "3  36.945447    4  \n",
       "4  33.470664    5  \n",
       "\n",
       "[5 rows x 21 columns]"
      ]
     },
     "execution_count": 16,
     "metadata": {},
     "output_type": "execute_result"
    }
   ],
   "source": [
    "df.head()"
   ]
  },
  {
   "cell_type": "code",
   "execution_count": 17,
   "metadata": {},
   "outputs": [
    {
     "data": {
      "text/plain": [
       "(328, 21)"
      ]
     },
     "execution_count": 17,
     "metadata": {},
     "output_type": "execute_result"
    }
   ],
   "source": [
    "df.shape"
   ]
  },
  {
   "cell_type": "code",
   "execution_count": 18,
   "metadata": {},
   "outputs": [
    {
     "name": "stdout",
     "output_type": "stream",
     "text": [
      "CA hospitals have received $758,058,589.00 in payments.\n"
     ]
    }
   ],
   "source": [
    "print(\"CA hospitals have received ${:,.2f} in payments.\".format(df['Total_payments'].sum()))"
   ]
  },
  {
   "cell_type": "code",
   "execution_count": null,
   "metadata": {},
   "outputs": [],
   "source": []
  }
 ],
 "metadata": {
  "kernelspec": {
   "display_name": "Python 3",
   "language": "python",
   "name": "python3"
  },
  "language_info": {
   "codemirror_mode": {
    "name": "ipython",
    "version": 3
   },
   "file_extension": ".py",
   "mimetype": "text/x-python",
   "name": "python",
   "nbconvert_exporter": "python",
   "pygments_lexer": "ipython3",
   "version": "3.6.7"
  }
 },
 "nbformat": 4,
 "nbformat_minor": 4
}
