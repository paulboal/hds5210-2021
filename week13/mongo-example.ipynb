{
 "cells": [
  {
   "cell_type": "code",
   "execution_count": 9,
   "metadata": {},
   "outputs": [],
   "source": [
    "ed_visits = [\n",
    "    { \n",
    "        '_id': 'bjh-2016',\n",
    "        'hospital' : {\n",
    "            'name': 'BJH',\n",
    "            'city': 'St. Louis',\n",
    "            'beds': 1243,\n",
    "            'services': ['IP','OP','ED','Clinic'],\n",
    "            'system': {\n",
    "                'name': 'BJC',\n",
    "                'affiliation': 'Non-Religious'\n",
    "            }\n",
    "        },\n",
    "        'year': 2016,\n",
    "        'ed_visits': 72348\n",
    "    },\n",
    "    { \n",
    "        '_id': 'bjh-2017',\n",
    "        'hospital' : {\n",
    "            'name': 'BJH',\n",
    "            'city': 'St. Louis',\n",
    "            'beds': 1243,\n",
    "            'services': ['IP','OP','ED','Clinic'],\n",
    "            'system': {\n",
    "                'name': 'BJC',\n",
    "                'affiliation': 'Non-Religious'\n",
    "            }\n",
    "        },\n",
    "        'year': 2017,\n",
    "        'ed_visits': 81221\n",
    "    },\n",
    "    { \n",
    "        '_id': 'mobap-2016',\n",
    "        'hospital' : {\n",
    "            'name': 'MoBap',\n",
    "            'city': 'Ladue',\n",
    "            'beds': 443,\n",
    "            'services': ['IP','OP','ED','Clinic'],\n",
    "            'system': {\n",
    "                'name': 'BJC',\n",
    "                'affiliation': 'Non-Religious'\n",
    "            }\n",
    "        },\n",
    "        'year': 2016,\n",
    "        'ed_visits': 42983\n",
    "    },\n",
    "    { \n",
    "        '_id': 'mobap-2017',\n",
    "        'hospital' : {\n",
    "            'name': 'MoBap',\n",
    "            'city': 'Ladue',\n",
    "            'beds': 443,\n",
    "            'services': ['IP','OP','ED','Clinic'],\n",
    "            'system': {\n",
    "                'name': 'BJC',\n",
    "                'affiliation': 'Non-Religious'\n",
    "            }\n",
    "        },\n",
    "        'year': 2017,\n",
    "        'ed_visits': 43921\n",
    "    },\n",
    "    { \n",
    "        '_id': 'mercystl-2016',\n",
    "        'hospital' : {\n",
    "            'name': 'Mercy STL',\n",
    "            'city': 'Ladue',\n",
    "            'beds': 1120,\n",
    "            'services': ['IP','OP','ED'],\n",
    "            'system': {\n",
    "                'name': 'Mercy',\n",
    "                'affiliation': 'Catholic'\n",
    "            }\n",
    "        },\n",
    "        'year': 2016,\n",
    "        'ed_visits': 51932\n",
    "    },\n",
    "    { \n",
    "        '_id': 'mercystl-2017',\n",
    "        'hospital' : {\n",
    "            'name': 'Mercy STL',\n",
    "            'city': 'Ladue',\n",
    "            'beds': 1120,\n",
    "            'services': ['IP','OP','ED'],\n",
    "            'system': {\n",
    "                'name': 'Mercy',\n",
    "                'affiliation': 'Catholic'\n",
    "            }\n",
    "        },\n",
    "        'year': 2017,\n",
    "        'ed_visits': 52221\n",
    "    }\n",
    "]"
   ]
  },
  {
   "cell_type": "code",
   "execution_count": 10,
   "metadata": {},
   "outputs": [],
   "source": [
    "import pymongo\n",
    "import sys"
   ]
  },
  {
   "cell_type": "code",
   "execution_count": 11,
   "metadata": {},
   "outputs": [],
   "source": [
    "client = pymongo.MongoClient('localhost')"
   ]
  },
  {
   "cell_type": "code",
   "execution_count": 12,
   "metadata": {},
   "outputs": [],
   "source": [
    "db = client.test"
   ]
  },
  {
   "cell_type": "code",
   "execution_count": 13,
   "metadata": {},
   "outputs": [],
   "source": [
    "docs = db.ed_vists"
   ]
  },
  {
   "cell_type": "code",
   "execution_count": 14,
   "metadata": {},
   "outputs": [
    {
     "data": {
      "text/plain": [
       "<pymongo.results.DeleteResult at 0x7efd75e8c048>"
      ]
     },
     "execution_count": 14,
     "metadata": {},
     "output_type": "execute_result"
    }
   ],
   "source": [
    "docs.delete_many({})"
   ]
  },
  {
   "cell_type": "code",
   "execution_count": 15,
   "metadata": {},
   "outputs": [
    {
     "data": {
      "text/plain": [
       "0"
      ]
     },
     "execution_count": 15,
     "metadata": {},
     "output_type": "execute_result"
    }
   ],
   "source": [
    "docs.count_documents({})"
   ]
  },
  {
   "cell_type": "code",
   "execution_count": 16,
   "metadata": {},
   "outputs": [
    {
     "name": "stdout",
     "output_type": "stream",
     "text": [
      "bjh-2016\n",
      "bjh-2017\n",
      "mobap-2016\n",
      "mobap-2017\n",
      "mercystl-2016\n",
      "mercystl-2017\n"
     ]
    }
   ],
   "source": [
    "for d in ed_visits:\n",
    "    print(d.get(\"_id\"))\n",
    "    docs.insert_one(d)"
   ]
  },
  {
   "cell_type": "code",
   "execution_count": 17,
   "metadata": {},
   "outputs": [
    {
     "data": {
      "text/plain": [
       "6"
      ]
     },
     "execution_count": 17,
     "metadata": {},
     "output_type": "execute_result"
    }
   ],
   "source": [
    "docs.count_documents({})"
   ]
  },
  {
   "cell_type": "code",
   "execution_count": 18,
   "metadata": {},
   "outputs": [
    {
     "name": "stdout",
     "output_type": "stream",
     "text": [
      "BJH\n",
      "{'_id': 'bjh-2016', 'hospital': {'name': 'BJH', 'city': 'St. Louis', 'beds': 1243, 'services': ['IP', 'OP', 'ED', 'Clinic'], 'system': {'name': 'BJC', 'affiliation': 'Non-Religious'}}, 'year': 2016, 'ed_visits': 72348}\n",
      "BJH\n",
      "{'_id': 'bjh-2017', 'hospital': {'name': 'BJH', 'city': 'St. Louis', 'beds': 1243, 'services': ['IP', 'OP', 'ED', 'Clinic'], 'system': {'name': 'BJC', 'affiliation': 'Non-Religious'}}, 'year': 2017, 'ed_visits': 81221}\n",
      "MoBap\n",
      "{'_id': 'mobap-2016', 'hospital': {'name': 'MoBap', 'city': 'Ladue', 'beds': 443, 'services': ['IP', 'OP', 'ED', 'Clinic'], 'system': {'name': 'BJC', 'affiliation': 'Non-Religious'}}, 'year': 2016, 'ed_visits': 42983}\n",
      "MoBap\n",
      "{'_id': 'mobap-2017', 'hospital': {'name': 'MoBap', 'city': 'Ladue', 'beds': 443, 'services': ['IP', 'OP', 'ED', 'Clinic'], 'system': {'name': 'BJC', 'affiliation': 'Non-Religious'}}, 'year': 2017, 'ed_visits': 43921}\n",
      "Mercy STL\n",
      "{'_id': 'mercystl-2016', 'hospital': {'name': 'Mercy STL', 'city': 'Ladue', 'beds': 1120, 'services': ['IP', 'OP', 'ED'], 'system': {'name': 'Mercy', 'affiliation': 'Catholic'}}, 'year': 2016, 'ed_visits': 51932}\n",
      "Mercy STL\n",
      "{'_id': 'mercystl-2017', 'hospital': {'name': 'Mercy STL', 'city': 'Ladue', 'beds': 1120, 'services': ['IP', 'OP', 'ED'], 'system': {'name': 'Mercy', 'affiliation': 'Catholic'}}, 'year': 2017, 'ed_visits': 52221}\n"
     ]
    }
   ],
   "source": [
    "for d in docs.find({}):\n",
    "    print(d['hospital']['name'])\n",
    "    print(d)"
   ]
  },
  {
   "cell_type": "code",
   "execution_count": 19,
   "metadata": {},
   "outputs": [
    {
     "name": "stdout",
     "output_type": "stream",
     "text": [
      "IP\n",
      "IP\n",
      "IP\n"
     ]
    }
   ],
   "source": [
    "for d in docs.find({ 'year': 2017}):\n",
    "#     print(d['hospital']['name'])\n",
    "    print(d['hospital']['services'][0])"
   ]
  },
  {
   "cell_type": "code",
   "execution_count": 20,
   "metadata": {},
   "outputs": [
    {
     "data": {
      "text/plain": [
       "<pymongo.results.InsertOneResult at 0x7efd77161dc8>"
      ]
     },
     "execution_count": 20,
     "metadata": {},
     "output_type": "execute_result"
    }
   ],
   "source": [
    "docs.insert_one({'_id': 'abc', 'name': 'Paul'})"
   ]
  },
  {
   "cell_type": "code",
   "execution_count": 21,
   "metadata": {},
   "outputs": [
    {
     "data": {
      "text/plain": [
       "7"
      ]
     },
     "execution_count": 21,
     "metadata": {},
     "output_type": "execute_result"
    }
   ],
   "source": [
    "docs.count_documents({})"
   ]
  },
  {
   "cell_type": "code",
   "execution_count": 22,
   "metadata": {},
   "outputs": [
    {
     "name": "stdout",
     "output_type": "stream",
     "text": [
      "{'_id': 'bjh-2016', 'hospital': {'name': 'BJH', 'city': 'St. Louis', 'beds': 1243, 'services': ['IP', 'OP', 'ED', 'Clinic'], 'system': {'name': 'BJC', 'affiliation': 'Non-Religious'}}, 'year': 2016, 'ed_visits': 72348}\n",
      "{'_id': 'bjh-2017', 'hospital': {'name': 'BJH', 'city': 'St. Louis', 'beds': 1243, 'services': ['IP', 'OP', 'ED', 'Clinic'], 'system': {'name': 'BJC', 'affiliation': 'Non-Religious'}}, 'year': 2017, 'ed_visits': 81221}\n",
      "{'_id': 'mobap-2016', 'hospital': {'name': 'MoBap', 'city': 'Ladue', 'beds': 443, 'services': ['IP', 'OP', 'ED', 'Clinic'], 'system': {'name': 'BJC', 'affiliation': 'Non-Religious'}}, 'year': 2016, 'ed_visits': 42983}\n",
      "{'_id': 'mobap-2017', 'hospital': {'name': 'MoBap', 'city': 'Ladue', 'beds': 443, 'services': ['IP', 'OP', 'ED', 'Clinic'], 'system': {'name': 'BJC', 'affiliation': 'Non-Religious'}}, 'year': 2017, 'ed_visits': 43921}\n",
      "{'_id': 'mercystl-2016', 'hospital': {'name': 'Mercy STL', 'city': 'Ladue', 'beds': 1120, 'services': ['IP', 'OP', 'ED'], 'system': {'name': 'Mercy', 'affiliation': 'Catholic'}}, 'year': 2016, 'ed_visits': 51932}\n",
      "{'_id': 'mercystl-2017', 'hospital': {'name': 'Mercy STL', 'city': 'Ladue', 'beds': 1120, 'services': ['IP', 'OP', 'ED'], 'system': {'name': 'Mercy', 'affiliation': 'Catholic'}}, 'year': 2017, 'ed_visits': 52221}\n",
      "{'_id': 'abc', 'name': 'Paul'}\n"
     ]
    }
   ],
   "source": [
    "for d in docs.find({}):\n",
    "    print(d)"
   ]
  },
  {
   "cell_type": "code",
   "execution_count": null,
   "metadata": {},
   "outputs": [],
   "source": []
  },
  {
   "cell_type": "code",
   "execution_count": null,
   "metadata": {},
   "outputs": [],
   "source": []
  }
 ],
 "metadata": {
  "kernelspec": {
   "display_name": "Python 3",
   "language": "python",
   "name": "python3"
  },
  "language_info": {
   "codemirror_mode": {
    "name": "ipython",
    "version": 3
   },
   "file_extension": ".py",
   "mimetype": "text/x-python",
   "name": "python",
   "nbconvert_exporter": "python",
   "pygments_lexer": "ipython3",
   "version": "3.6.7"
  }
 },
 "nbformat": 4,
 "nbformat_minor": 2
}
